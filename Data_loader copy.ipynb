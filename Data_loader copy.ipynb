{
 "cells": [
  {
   "cell_type": "code",
   "execution_count": 4,
   "metadata": {},
   "outputs": [],
   "source": [
    "import os \n",
    "import pandas as pd \n",
    "import numpy as np \n",
    "import seaborn as sns \n",
    "import mne \n",
    "import torch\n",
    "import torch.nn as nn\n",
    "import math\n",
    "from scipy.interpolate import interp1d\n",
    "from scipy.stats import iqr \n",
    "\n",
    "from typing import Optional, Dict, Any, Tuple\n",
    "\n",
    "import lightning as L \n",
    "from lightning.pytorch.callbacks import ModelCheckpoint\n",
    "\n",
    "from sklearn.model_selection import train_test_split\n",
    "from lightning.pytorch.callbacks.early_stopping import EarlyStopping\n",
    "\n",
    "\n",
    "from torch.utils.data import ConcatDataset, Dataset, DataLoader, RandomSampler\n"
   ]
  },
  {
   "cell_type": "code",
   "execution_count": 5,
   "metadata": {},
   "outputs": [],
   "source": [
    "def is_integer_with_custom_precision(num: float, eps: float = 1e-6, int_value: Optional[int] = None):\n",
    "    if int_value is None:\n",
    "        int_value = int(num)\n",
    "    return abs(int_value - num) < eps, int_value\n",
    "\n"
   ]
  },
  {
   "cell_type": "code",
   "execution_count": 6,
   "metadata": {},
   "outputs": [],
   "source": [
    "EEG_SAMPLING_RATE = 250\n",
    "FMRI_TR = 2.0  # sec\n",
    "\n",
    "RUNS = [\n",
    "    ('rs', '01'),\n",
    "    ('rs', '02'),\n",
    "    ('rs', '03'),\n",
    "    ('rs', '04'),\n",
    "    ('rs', '05'),\n",
    "    ('rs', '06'),\n",
    "    ('socword', '01'), \n",
    "    ('socword', '02'),\n",
    "    ('socword', '03'),\n",
    "    ('socword', '04'),\n",
    "    ('socword', '05'),\n",
    "    ('socword', '06')\n",
    "    ]\n",
    "RUNSNATVIEW = [\n",
    "    ('01', 'checker'),\n",
    "    ('01', 'dme_run-01'),\n",
    "    ('01', 'dme_run-02'),\n",
    "    ('01', 'inscapes'),\n",
    "    ('01', 'monkey1_run-01'),\n",
    "    ('01', 'monkey1_run-02'),\n",
    "    ('01', 'rest'),\n",
    "    ('01', 'tp_run-01'),\n",
    "    ('01', 'tp_run-02')\n",
    "]\n",
    "\n",
    "RUNS_1895 = [\n",
    "    ('rs', '01'),\n",
    "    ('rs', '02'),\n",
    "    ('socword', '01'), \n",
    "    ('socword', '02'),\n",
    "    ('socword', '03')\n",
    "    ]\n",
    "# IN SAMPLES WITH 2 Hz SAMPLING RATE. FOR SECONDS DIVIDE BY 2\n",
    "TEST_SIZES = {\n",
    "    'checker': 100,\n",
    "    'dme': 250,\n",
    "    'inscapes': 250,\n",
    "    'monkey1': 150,\n",
    "    'rest': 250,\n",
    "    'tp': 100,\n",
    "    'dmh': 250,\n",
    "    'monkey2': 150,\n",
    "    'monkey5': 150\n",
    "}\n"
   ]
  },
  {
   "cell_type": "code",
   "execution_count": 7,
   "metadata": {},
   "outputs": [],
   "source": [
    "separate_global_trend = True  "
   ]
  },
  {
   "cell_type": "code",
   "execution_count": 8,
   "metadata": {},
   "outputs": [],
   "source": [
    "def load_eeg_data(root: str, ses:str, run:str, task: str, eeg_channels: Optional[list[str]]):\n",
    "\n",
    "    filename = f'sub-101472_ses-{ses}_task-{task}_run-{run}_eegMRbvCBbviiR250.vhdr'\n",
    "    eeg_vhdr_path = os.path.join(root, f'ses-{ses}', 'eeg', filename)\n",
    "\n",
    "    \n",
    "    eeg_raw = mne.io.read_raw_brainvision(eeg_vhdr_path, preload = True)\n",
    "    events, event_ids = mne.events_from_annotations(eeg_raw)\n",
    "    events_dict_cut = {'Scanner/Scan Start': event_ids['Scanner/Scan Start']}  # use only Scan Start event\n",
    "\n",
    "\n",
    "    try:\n",
    "        scan_key = 'Scanner/Scan Start'\n",
    "        segment_scans = events[events[:, -1] == event_ids[scan_key]]\n",
    "    except: \n",
    "        scan_key = 'Stimulus/Scan Start'\n",
    "        segment_scans = events[events[:, -1] == event_ids[scan_key]] \n",
    "        print(f'ERROR: FAULTY EVENT NAME. PATH:{eeg_vhdr_path}')\n",
    "\n",
    "\n",
    "    unique_scan_diffs, counts_diffs = np.unique(np.diff(segment_scans[:, 0]), return_counts=True)\n",
    "    assert len(unique_scan_diffs) == 1, (unique_scan_diffs, counts_diffs)\n",
    "    assert unique_scan_diffs[0] == 3000  \n",
    "\n",
    "    assert eeg_raw.info['sfreq'] == EEG_SAMPLING_RATE\n",
    "    first_segment = segment_scans[0, 0] / EEG_SAMPLING_RATE\n",
    "\n",
    "    cropped_eeg = eeg_raw.crop(tmin=first_segment)\n",
    "    df_eeg = cropped_eeg.to_data_frame()\n",
    "\n",
    "    if eeg_channels is None:\n",
    "        eeg_channels = [column for column in df_eeg.columns if column != 'time']\n",
    "\n",
    "    eeg_times = df_eeg['time']\n",
    "\n",
    "\n",
    "    epochs = mne.Epochs(\n",
    "        cropped_eeg,\n",
    "        events = events, \n",
    "        event_id =events_dict_cut, \n",
    "        tmin = 6.5,\n",
    "        tmax = 11.5-1/EEG_SAMPLING_RATE, \n",
    "        baseline = None, \n",
    "        preload = True\n",
    "    )\n",
    "\n",
    "    epochs_df = epochs.to_data_frame()\n",
    "    #try: \n",
    "    assert (epochs_df['epoch'].unique() == np.where(events[:,2] == 10002)).all()\n",
    "    #except: \n",
    "        #assert (epochs_df['epoch'].unique() == np.where(events[:,2] == 10001)).all()\n",
    "        #print(f'FAULTY EVENT NAMES. SESSION:{ses},RUN:{run},  TASK:{task}')\n",
    "    epochs_array = epochs.get_data()[:-1, ...]\n",
    "    segment_scans = segment_scans[:-1]\n",
    "\n",
    "\n",
    "    return epochs_array, eeg_channels, eeg_vhdr_path, eeg_times, events,  event_ids, segment_scans"
   ]
  },
  {
   "cell_type": "code",
   "execution_count": 9,
   "metadata": {},
   "outputs": [],
   "source": [
    "#UPDATE FUNCTIONS BELOW FOR THE EPOCHS RETURN + ALIGN EPOCHT WITH FMRI  "
   ]
  },
  {
   "cell_type": "code",
   "execution_count": 10,
   "metadata": {},
   "outputs": [],
   "source": [
    "def load_fmri_data(root, ses, task, run, roi_folder, rois, rois_for_global_trend = None): \n",
    "    \"\"\"\n",
    "    Loads pre-processed fMRI data. The original TR is 2.0 \n",
    "    \"\"\"\n",
    "    filename = f'sub-101472_ses-{ses}_task-{task}_run-{run}.csv'\n",
    "    csv_path = os.path.join(root, f'ses-{ses}', roi_folder, filename)\n",
    "    fmri_data = pd.read_csv(csv_path)\n",
    "\n",
    "    if rois is None:\n",
    "        rois = [column for column in fmri_data.columns if column not in ['Nvol', ' Tstart']]\n",
    "    # assert for tsart integer \n",
    "    assert all([i.is_integer() for i in fmri_data[' Tstart']])\n",
    "    fmri_times = fmri_data[' Tstart'].to_numpy()\n",
    "\n",
    "    fmri_times = fmri_times.astype(int)\n",
    "    fmri_times = fmri_times//12\n",
    "\n",
    "    fmri_data = fmri_data.assign(N_cycle=pd.Series(fmri_times).values)\n",
    "    df_ncycle = fmri_data.groupby(by = 'N_cycle')\n",
    "\n",
    "    fmri_array = np.full((len(df_ncycle), len(rois), 3), fill_value = np.inf)\n",
    "\n",
    "    for idx, group in df_ncycle: \n",
    "        group = group[rois].to_numpy()\n",
    "        fmri_array[idx, ...] = group.T \n",
    "\n",
    "    # check if no inf that were previously filled are left  \n",
    "    assert not np.isinf(fmri_array).any(), (f'') \n",
    "\n",
    "    # cut the first triplet \n",
    "    fmri_array = fmri_array[1:, ...]\n",
    "    if rois_for_global_trend is None:\n",
    "        rois_for_global_trend = list(rois)\n",
    "\n",
    "    all_rois = [roi for roi in list(rois)]\n",
    "    all_rois = all_rois + [roi for roi in rois_for_global_trend if roi not in rois]\n",
    "\n",
    "\n",
    "    return fmri_array, fmri_times, rois, csv_path, fmri_data, rois_for_global_trend\n",
    "\n"
   ]
  },
  {
   "cell_type": "code",
   "execution_count": null,
   "metadata": {},
   "outputs": [],
   "source": [
    "def load_data(root: str, run: str, task: str, ses:str,\n",
    "              rois: Optional[list[str]], eeg_channels: Optional[list[str]],separate_global_trend: bool,\n",
    "              sampling_rates_ratio = 500, roi_folder: str = 'roi'):\n",
    "    \n",
    "    fmri_array, fmri_times, rois, fmri_path, fmri_data, rois_for_global_trend = load_fmri_data(\n",
    "        root=root, run=run, ses=ses, task=task, rois=rois, roi_folder=roi_folder\n",
    "    )\n",
    "\n",
    "    epochs_array, eeg_channels, eeg_path, eeg_times, events, event_ids, segment_scans = load_eeg_data(\n",
    "        root=root, ses=ses, run=run, task=task, eeg_channels=eeg_channels\n",
    "    )\n",
    "\n",
    "    assert (fmri_array.shape[0]) == len(segment_scans), (f'EEG segment marks should be 3x '\n",
    "                                                 f'fMRI sample size. '\n",
    "                                                 f'fMRI sample size is {(fmri_array.shape[0])}. '\n",
    "                                                 f'Number of segment marks: {len(segment_scans)} '\n",
    "                                                 f'file is Root: {root},  ses: {ses}, run: {run},'\n",
    "                                                 f' task: {task}.')\n",
    "    \n",
    "\n",
    "\n",
    "   \n",
    "\n",
    "    # assert epochs.shape[0] == (df_fmri.shape[0] * sampling_rates_ratio), (f'EEG size: {df_eeg.shape}, fMRI '\n",
    "    #                                                                       f'size: {df_fmri.shape}, sr ratio: '\n",
    "    #                                                                       f'{sampling_rates_ratio}.\\nRoot: {root},  '\n",
    "    #                                                                       f'sub: {sub}, ses: {ses}, task: {task}.')\n",
    "    #fmri_for_global_trend = fmri_array.T\n",
    "    fmri_reshaped = np.transpose(fmri_array, (1, 0, 2))\n",
    "    n_rois, n_cycles, n_scans = fmri_reshaped.shape\n",
    "    fmri_reshaped = np.reshape(fmri_reshaped, (n_rois, n_cycles * n_scans))\n",
    "\n",
    "    if separate_global_trend:\n",
    "        assert fmri_reshaped.ndim == 2, fmri_reshaped.shape\n",
    "        global_trend_array = np.mean(fmri_reshaped, axis=0)\n",
    "\n",
    "        inner = np.inner(global_trend_array, global_trend_array)\n",
    "        outer = np.outer(global_trend_array, global_trend_array)\n",
    "\n",
    "        print(inner.shape, outer)\n",
    "\n",
    "        detrend = fmri_reshaped @ outer / inner\n",
    "        fmri_reshaped = fmri_reshaped - detrend\n",
    "\n",
    " \n",
    "    fmri_reshaped = np.concatenate((fmri_reshaped, global_trend_array[None, :]), axis=0)\n",
    "    assert np.equal(fmri_reshaped[-1], global_trend_array).all()\n",
    "\n",
    "    fmri_reshaped = np.reshape(fmri_reshaped, (n_rois + 1, n_cycles, n_scans))\n",
    "    fmri_output = np.transpose(fmri_reshaped, (1, 0, 2))\n",
    "\n",
    "    if not separate_global_trend:\n",
    "        assert fmri_output.shape == fmri_array.shape, (f'fmri output: {fmri_output.shape}, fmri array: {fmri_array.shape}')\n",
    "    #fmri_for_global_trend = df_fmri[rois_for_global_trend].to_numpy().T\n",
    "\n",
    "\n",
    "\n",
    "    # center BOLD around 0\n",
    "    #fmri_array = fmri_array - np.mean(fmri_array, axis=1, keepdims=True)\n",
    "    #fmri_for_global_trend = fmri_for_global_trend - np.mean(fmri_for_global_trend, axis=1, keepdims=True)\n",
    "\n",
    "    # if separate_global_trend:\n",
    "    #     assert fmri_array.ndim == 2, fmri_array.shape\n",
    "    #     assert fmri_for_global_trend.ndim == 2, fmri_for_global_trend.shape\n",
    "    #     global_trend_array = np.mean(fmri_for_global_trend, axis=0)\n",
    "\n",
    "    #     inner = np.inner(global_trend_array, global_trend_array)\n",
    "    #     outer = np.outer(global_trend_array, global_trend_array)\n",
    "\n",
    "    #     detrend = fmri_array @ outer / inner\n",
    "    #     fmri_array = fmri_array - detrend\n",
    "\n",
    "    #     for idx in range(fmri_array.shape[0]):\n",
    "    #         corr_coeff = np.corrcoef(fmri_array[idx, :], global_trend_array)[0, 1]\n",
    "    #         assert abs(corr_coeff) < 1e-6, (\n",
    "    #             f'Sub: {sub}, ses: {ses}, task: {task}, ROI: {rois[idx]} has correlation above threshold: {corr_coeff}'\n",
    "    #         )\n",
    "\n",
    "    #     fmri_array = np.concatenate((fmri_array, global_trend_array[None, :]), axis=0)\n",
    "    #     assert np.equal(fmri_array[-1], global_trend_array).all()\n",
    "\n",
    "    # fix so that the return for eeg are epochs \n",
    "    return epochs_array, fmri_array, fmri_output, eeg_channels, rois, eeg_path, fmri_path, eeg_times, events, event_ids, segment_scans\n"
   ]
  },
  {
   "cell_type": "code",
   "execution_count": 50,
   "metadata": {},
   "outputs": [],
   "source": [
    "\n",
    "# 3. check last event for xtra tail \n"
   ]
  },
  {
   "cell_type": "code",
   "execution_count": 51,
   "metadata": {},
   "outputs": [],
   "source": [
    "def load_multiple_files(root: str,\n",
    "                        rois: Optional[list[str]], eeg_channels: Optional[list[str]], sessions:list, separate_global_trend: bool,\n",
    "                        rois_for_global_trend: Optional[list[str]] = None, roi_folder: str = 'roi'):\n",
    "    datasets = {}\n",
    "    event_ids_dict = {}\n",
    "    if rois is None:\n",
    "        overall_rois = None\n",
    "    else:\n",
    "        overall_rois = list(rois)\n",
    "\n",
    "    if eeg_channels is None:\n",
    "        overall_eeg_channels = None\n",
    "    else:\n",
    "        overall_eeg_channels = list(eeg_channels)\n",
    "\n",
    "    for ses in sessions: \n",
    "        if ses == '1895':\n",
    "            for task, run in RUNS_1895:\n",
    "                #try:\n",
    "                    epochs_array, fmri_array,fmri_output, eeg_channels, rois, eeg_path, fmri_path, eeg_times, events, event_ids, segment_scans = load_data(\n",
    "                        root=root, ses=ses, run=run, task=task, rois=rois,\n",
    "                        eeg_channels=eeg_channels, sampling_rates_ratio=500,\n",
    "                        roi_folder=roi_folder, separate_global_trend=True\n",
    "                    )\n",
    "\n",
    "                    if overall_rois is None:\n",
    "                        overall_rois = list(rois)\n",
    "                    else:\n",
    "                        assert overall_rois == rois\n",
    "\n",
    "                    if overall_eeg_channels is None:\n",
    "                        overall_eeg_channels = list(eeg_channels)\n",
    "                    else:\n",
    "                        assert overall_eeg_channels == eeg_channels\n",
    "\n",
    "                    datasets[(eeg_path, fmri_path)] = {\n",
    "                        'eeg': epochs_array, 'fmri': fmri_array, 'fmri_reshape':fmri_output, 'task': task.split('_')[0], 'eeg_times': eeg_times,'events':events, 'event_ids':event_ids,\n",
    "                        'segment_scans':segment_scans\n",
    "                    }\n",
    "                    \n",
    "                    event_ids_dict[(task, run, ses)] = event_ids\n",
    "            #except Exception as e:\n",
    "                #print(e) \n",
    "        else:\n",
    "            for task, run in RUNS:\n",
    "                #try:\n",
    "                    epochs_array, fmri_array,fmri_output, eeg_channels, rois, eeg_path, fmri_path, eeg_times, events, event_ids, segment_scans = load_data(\n",
    "                        root=root, ses=ses, run=run, task=task, rois=rois,\n",
    "                        eeg_channels=eeg_channels, sampling_rates_ratio=500,\n",
    "                        roi_folder=roi_folder, separate_global_trend = True\n",
    "                    )\n",
    "\n",
    "                    if overall_rois is None:\n",
    "                        overall_rois = list(rois)\n",
    "                    else:\n",
    "                        assert overall_rois == rois\n",
    "\n",
    "                    if overall_eeg_channels is None:\n",
    "                        overall_eeg_channels = list(eeg_channels)\n",
    "                    else:\n",
    "                        assert overall_eeg_channels == eeg_channels\n",
    "\n",
    "                    datasets[(eeg_path, fmri_path)] = {\n",
    "                        'eeg': epochs_array, 'fmri': fmri_array,'fmri_reshape':fmri_output, 'task': task.split('_')[0], 'eeg_times': eeg_times,'events':events, 'event_ids':event_ids,\n",
    "                        'segment_scans':segment_scans\n",
    "                    }\n",
    "                    event_ids_dict[(task, run, ses)] = event_ids\n",
    "\n",
    "\n",
    "    rois = list(rois)\n",
    "    if separate_global_trend:\n",
    "        rois.append(' Global Regressive Trend')\n",
    "\n",
    "    return datasets, rois, eeg_channels, event_ids_dict"
   ]
  },
  {
   "cell_type": "code",
   "execution_count": null,
   "metadata": {},
   "outputs": [],
   "source": []
  },
  {
   "cell_type": "code",
   "execution_count": 52,
   "metadata": {},
   "outputs": [
    {
     "name": "stdout",
     "output_type": "stream",
     "text": [
      "Extracting parameters from /Users/terekhova/Desktop/EEG-BOLD-Decoding/intermittent/interm/sub-101472/ses-1818/eeg/sub-101472_ses-1818_task-rs_run-01_eegMRbvCBbviiR250.vhdr...\n",
      "Setting channel info structure...\n",
      "Reading 0 ... 138060  =      0.000 ...   552.240 secs...\n"
     ]
    },
    {
     "name": "stderr",
     "output_type": "stream",
     "text": [
      "/var/folders/_t/wzqtw10969z1swmc_n6s3p700000gp/T/ipykernel_12783/2795110670.py:7: RuntimeWarning: No coordinate information found for channels ['ECG']. Setting channel types to misc. To avoid this warning, set channel types explicitly.\n",
      "  eeg_raw = mne.io.read_raw_brainvision(eeg_vhdr_path, preload = True)\n"
     ]
    },
    {
     "name": "stdout",
     "output_type": "stream",
     "text": [
      "Used Annotations descriptions: ['New Segment/', 'Pulse Artifact/R', 'Scanner/Scan Start']\n"
     ]
    },
    {
     "name": "stderr",
     "output_type": "stream",
     "text": [
      "/var/folders/_t/wzqtw10969z1swmc_n6s3p700000gp/T/ipykernel_12783/2795110670.py:7: RuntimeWarning: Not setting position of 1 misc channel found in montage:\n",
      "['ECG']\n",
      "Consider setting the channel types to be of EEG/sEEG/ECoG/DBS/fNIRS using inst.set_channel_types before calling inst.set_montage, or omit these channels when creating your montage.\n",
      "  eeg_raw = mne.io.read_raw_brainvision(eeg_vhdr_path, preload = True)\n"
     ]
    },
    {
     "name": "stdout",
     "output_type": "stream",
     "text": [
      "Not setting metadata\n",
      "46 matching events found\n",
      "No baseline correction applied\n",
      "0 projection items activated\n",
      "Using data from preloaded Raw for 46 events and 1250 original time points ...\n",
      "0 bad epochs dropped\n",
      "() [[3.22118195e+09 3.22101229e+09 3.22231640e+09 ... 3.22163830e+09\n",
      "  3.22599916e+09 3.22140750e+09]\n",
      " [3.22101229e+09 3.22084263e+09 3.22214667e+09 ... 3.22146861e+09\n",
      "  3.22582924e+09 3.22123783e+09]\n",
      " [3.22231640e+09 3.22214667e+09 3.22345124e+09 ... 3.22277290e+09\n",
      "  3.22713530e+09 3.22254203e+09]\n",
      " ...\n",
      " [3.22163830e+09 3.22146861e+09 3.22277290e+09 ... 3.22209471e+09\n",
      "  3.22645619e+09 3.22186388e+09]\n",
      " [3.22599916e+09 3.22582924e+09 3.22713530e+09 ... 3.22645619e+09\n",
      "  3.23082358e+09 3.22622505e+09]\n",
      " [3.22140750e+09 3.22123783e+09 3.22254203e+09 ... 3.22186388e+09\n",
      "  3.22622505e+09 3.22163307e+09]]\n",
      "Extracting parameters from /Users/terekhova/Desktop/EEG-BOLD-Decoding/intermittent/interm/sub-101472/ses-1818/eeg/sub-101472_ses-1818_task-rs_run-02_eegMRbvCBbviiR250.vhdr...\n",
      "Setting channel info structure...\n",
      "Reading 0 ... 138059  =      0.000 ...   552.236 secs...\n",
      "Used Annotations descriptions: ['New Segment/', 'Pulse Artifact/R', 'Scanner/Scan Start']\n"
     ]
    },
    {
     "name": "stderr",
     "output_type": "stream",
     "text": [
      "/var/folders/_t/wzqtw10969z1swmc_n6s3p700000gp/T/ipykernel_12783/2795110670.py:7: RuntimeWarning: No coordinate information found for channels ['ECG']. Setting channel types to misc. To avoid this warning, set channel types explicitly.\n",
      "  eeg_raw = mne.io.read_raw_brainvision(eeg_vhdr_path, preload = True)\n",
      "/var/folders/_t/wzqtw10969z1swmc_n6s3p700000gp/T/ipykernel_12783/2795110670.py:7: RuntimeWarning: Not setting position of 1 misc channel found in montage:\n",
      "['ECG']\n",
      "Consider setting the channel types to be of EEG/sEEG/ECoG/DBS/fNIRS using inst.set_channel_types before calling inst.set_montage, or omit these channels when creating your montage.\n",
      "  eeg_raw = mne.io.read_raw_brainvision(eeg_vhdr_path, preload = True)\n"
     ]
    },
    {
     "name": "stdout",
     "output_type": "stream",
     "text": [
      "Not setting metadata\n",
      "46 matching events found\n",
      "No baseline correction applied\n",
      "0 projection items activated\n",
      "Using data from preloaded Raw for 46 events and 1250 original time points ...\n",
      "0 bad epochs dropped\n",
      "() [[3.17055991e+09 3.16566631e+09 3.17127653e+09 ... 3.17195492e+09\n",
      "  3.17197245e+09 3.16962045e+09]\n",
      " [3.16566631e+09 3.16078027e+09 3.16638183e+09 ... 3.16705917e+09\n",
      "  3.16707667e+09 3.16472830e+09]\n",
      " [3.17127653e+09 3.16638183e+09 3.17199332e+09 ... 3.17267186e+09\n",
      "  3.17268939e+09 3.17033686e+09]\n",
      " ...\n",
      " [3.17195492e+09 3.16705917e+09 3.17267186e+09 ... 3.17335054e+09\n",
      "  3.17336808e+09 3.17101504e+09]\n",
      " [3.17197245e+09 3.16707667e+09 3.17268939e+09 ... 3.17336808e+09\n",
      "  3.17338562e+09 3.17103257e+09]\n",
      " [3.16962045e+09 3.16472830e+09 3.17033686e+09 ... 3.17101504e+09\n",
      "  3.17103257e+09 3.16868126e+09]]\n",
      "Extracting parameters from /Users/terekhova/Desktop/EEG-BOLD-Decoding/intermittent/interm/sub-101472/ses-1818/eeg/sub-101472_ses-1818_task-rs_run-03_eegMRbvCBbviiR250.vhdr...\n",
      "Setting channel info structure...\n",
      "Reading 0 ... 138055  =      0.000 ...   552.220 secs...\n"
     ]
    },
    {
     "name": "stderr",
     "output_type": "stream",
     "text": [
      "/var/folders/_t/wzqtw10969z1swmc_n6s3p700000gp/T/ipykernel_12783/2795110670.py:7: RuntimeWarning: No coordinate information found for channels ['ECG']. Setting channel types to misc. To avoid this warning, set channel types explicitly.\n",
      "  eeg_raw = mne.io.read_raw_brainvision(eeg_vhdr_path, preload = True)\n",
      "/var/folders/_t/wzqtw10969z1swmc_n6s3p700000gp/T/ipykernel_12783/2795110670.py:7: RuntimeWarning: Not setting position of 1 misc channel found in montage:\n",
      "['ECG']\n",
      "Consider setting the channel types to be of EEG/sEEG/ECoG/DBS/fNIRS using inst.set_channel_types before calling inst.set_montage, or omit these channels when creating your montage.\n",
      "  eeg_raw = mne.io.read_raw_brainvision(eeg_vhdr_path, preload = True)\n"
     ]
    },
    {
     "name": "stdout",
     "output_type": "stream",
     "text": [
      "Used Annotations descriptions: ['New Segment/', 'Pulse Artifact/R', 'Scanner/Scan Start']\n",
      "Not setting metadata\n",
      "46 matching events found\n",
      "No baseline correction applied\n",
      "0 projection items activated\n",
      "Using data from preloaded Raw for 46 events and 1250 original time points ...\n",
      "0 bad epochs dropped\n",
      "() [[3.15371355e+09 3.15083587e+09 3.15318263e+09 ... 3.15126576e+09\n",
      "  3.15118713e+09 3.15407761e+09]\n",
      " [3.15083587e+09 3.14796082e+09 3.15030543e+09 ... 3.14839032e+09\n",
      "  3.14831176e+09 3.15119959e+09]\n",
      " [3.15318263e+09 3.15030543e+09 3.15265179e+09 ... 3.15073525e+09\n",
      "  3.15065663e+09 3.15354662e+09]\n",
      " ...\n",
      " [3.15126576e+09 3.14839032e+09 3.15073525e+09 ... 3.14881988e+09\n",
      "  3.14874131e+09 3.15162954e+09]\n",
      " [3.15118713e+09 3.14831176e+09 3.15065663e+09 ... 3.14874131e+09\n",
      "  3.14866274e+09 3.15155090e+09]\n",
      " [3.15407761e+09 3.15119959e+09 3.15354662e+09 ... 3.15162954e+09\n",
      "  3.15155090e+09 3.15444171e+09]]\n",
      "Extracting parameters from /Users/terekhova/Desktop/EEG-BOLD-Decoding/intermittent/interm/sub-101472/ses-1818/eeg/sub-101472_ses-1818_task-rs_run-04_eegMRbvCBbviiR250.vhdr...\n",
      "Setting channel info structure...\n",
      "Reading 0 ... 138056  =      0.000 ...   552.224 secs...\n",
      "Used Annotations descriptions: ['New Segment/', 'Pulse Artifact/R', 'Scanner/Scan Start']\n"
     ]
    },
    {
     "name": "stderr",
     "output_type": "stream",
     "text": [
      "/var/folders/_t/wzqtw10969z1swmc_n6s3p700000gp/T/ipykernel_12783/2795110670.py:7: RuntimeWarning: No coordinate information found for channels ['ECG']. Setting channel types to misc. To avoid this warning, set channel types explicitly.\n",
      "  eeg_raw = mne.io.read_raw_brainvision(eeg_vhdr_path, preload = True)\n",
      "/var/folders/_t/wzqtw10969z1swmc_n6s3p700000gp/T/ipykernel_12783/2795110670.py:7: RuntimeWarning: Not setting position of 1 misc channel found in montage:\n",
      "['ECG']\n",
      "Consider setting the channel types to be of EEG/sEEG/ECoG/DBS/fNIRS using inst.set_channel_types before calling inst.set_montage, or omit these channels when creating your montage.\n",
      "  eeg_raw = mne.io.read_raw_brainvision(eeg_vhdr_path, preload = True)\n"
     ]
    },
    {
     "name": "stdout",
     "output_type": "stream",
     "text": [
      "Not setting metadata\n",
      "46 matching events found\n",
      "No baseline correction applied\n",
      "0 projection items activated\n",
      "Using data from preloaded Raw for 46 events and 1250 original time points ...\n",
      "0 bad epochs dropped\n",
      "() [[3.11535168e+09 3.11486134e+09 3.11634904e+09 ... 3.11412898e+09\n",
      "  3.11765928e+09 3.11551383e+09]\n",
      " [3.11486134e+09 3.11437108e+09 3.11585854e+09 ... 3.11363883e+09\n",
      "  3.11716858e+09 3.11502346e+09]\n",
      " [3.11634904e+09 3.11585854e+09 3.11734672e+09 ... 3.11512594e+09\n",
      "  3.11865738e+09 3.11651124e+09]\n",
      " ...\n",
      " [3.11412898e+09 3.11363883e+09 3.11512594e+09 ... 3.11290676e+09\n",
      "  3.11643568e+09 3.11429106e+09]\n",
      " [3.11765928e+09 3.11716858e+09 3.11865738e+09 ... 3.11643568e+09\n",
      "  3.11996860e+09 3.11782155e+09]\n",
      " [3.11551383e+09 3.11502346e+09 3.11651124e+09 ... 3.11429106e+09\n",
      "  3.11782155e+09 3.11567598e+09]]\n",
      "Extracting parameters from /Users/terekhova/Desktop/EEG-BOLD-Decoding/intermittent/interm/sub-101472/ses-1818/eeg/sub-101472_ses-1818_task-rs_run-05_eegMRbvCBbviiR250.vhdr...\n",
      "Setting channel info structure...\n",
      "Reading 0 ... 138056  =      0.000 ...   552.224 secs...\n",
      "Used Annotations descriptions: ['New Segment/', 'Pulse Artifact/R', 'Scanner/Scan Start']\n"
     ]
    },
    {
     "name": "stderr",
     "output_type": "stream",
     "text": [
      "/var/folders/_t/wzqtw10969z1swmc_n6s3p700000gp/T/ipykernel_12783/2795110670.py:7: RuntimeWarning: No coordinate information found for channels ['ECG']. Setting channel types to misc. To avoid this warning, set channel types explicitly.\n",
      "  eeg_raw = mne.io.read_raw_brainvision(eeg_vhdr_path, preload = True)\n",
      "/var/folders/_t/wzqtw10969z1swmc_n6s3p700000gp/T/ipykernel_12783/2795110670.py:7: RuntimeWarning: Not setting position of 1 misc channel found in montage:\n",
      "['ECG']\n",
      "Consider setting the channel types to be of EEG/sEEG/ECoG/DBS/fNIRS using inst.set_channel_types before calling inst.set_montage, or omit these channels when creating your montage.\n",
      "  eeg_raw = mne.io.read_raw_brainvision(eeg_vhdr_path, preload = True)\n"
     ]
    },
    {
     "name": "stdout",
     "output_type": "stream",
     "text": [
      "Not setting metadata\n",
      "46 matching events found\n",
      "No baseline correction applied\n",
      "0 projection items activated\n",
      "Using data from preloaded Raw for 46 events and 1250 original time points ...\n",
      "0 bad epochs dropped\n",
      "() [[3.16253921e+09 3.16358156e+09 3.16301242e+09 ... 3.16168713e+09\n",
      "  3.16582746e+09 3.16267972e+09]\n",
      " [3.16358156e+09 3.16462425e+09 3.16405492e+09 ... 3.16272920e+09\n",
      "  3.16687090e+09 3.16372211e+09]\n",
      " [3.16301242e+09 3.16405492e+09 3.16348570e+09 ... 3.16216021e+09\n",
      "  3.16630117e+09 3.16315295e+09]\n",
      " ...\n",
      " [3.16168713e+09 3.16272920e+09 3.16216021e+09 ... 3.16083528e+09\n",
      "  3.16497450e+09 3.16182760e+09]\n",
      " [3.16582746e+09 3.16687090e+09 3.16630117e+09 ... 3.16497450e+09\n",
      "  3.16911914e+09 3.16596812e+09]\n",
      " [3.16267972e+09 3.16372211e+09 3.16315295e+09 ... 3.16182760e+09\n",
      "  3.16596812e+09 3.16282023e+09]]\n",
      "Extracting parameters from /Users/terekhova/Desktop/EEG-BOLD-Decoding/intermittent/interm/sub-101472/ses-1818/eeg/sub-101472_ses-1818_task-rs_run-06_eegMRbvCBbviiR250.vhdr...\n",
      "Setting channel info structure...\n",
      "Reading 0 ... 138060  =      0.000 ...   552.240 secs...\n",
      "Used Annotations descriptions: ['New Segment/', 'Pulse Artifact/R', 'Scanner/Scan Start']\n"
     ]
    },
    {
     "name": "stderr",
     "output_type": "stream",
     "text": [
      "/var/folders/_t/wzqtw10969z1swmc_n6s3p700000gp/T/ipykernel_12783/2795110670.py:7: RuntimeWarning: No coordinate information found for channels ['ECG']. Setting channel types to misc. To avoid this warning, set channel types explicitly.\n",
      "  eeg_raw = mne.io.read_raw_brainvision(eeg_vhdr_path, preload = True)\n",
      "/var/folders/_t/wzqtw10969z1swmc_n6s3p700000gp/T/ipykernel_12783/2795110670.py:7: RuntimeWarning: Not setting position of 1 misc channel found in montage:\n",
      "['ECG']\n",
      "Consider setting the channel types to be of EEG/sEEG/ECoG/DBS/fNIRS using inst.set_channel_types before calling inst.set_montage, or omit these channels when creating your montage.\n",
      "  eeg_raw = mne.io.read_raw_brainvision(eeg_vhdr_path, preload = True)\n"
     ]
    },
    {
     "name": "stdout",
     "output_type": "stream",
     "text": [
      "Not setting metadata\n",
      "46 matching events found\n",
      "No baseline correction applied\n",
      "0 projection items activated\n",
      "Using data from preloaded Raw for 46 events and 1250 original time points ...\n",
      "0 bad epochs dropped\n",
      "() [[3.14207730e+09 3.13880734e+09 3.14239376e+09 ... 3.13876223e+09\n",
      "  3.14156905e+09 3.13972459e+09]\n",
      " [3.13880734e+09 3.13554079e+09 3.13912347e+09 ... 3.13549572e+09\n",
      "  3.13829963e+09 3.13645708e+09]\n",
      " [3.14239376e+09 3.13912347e+09 3.14271025e+09 ... 3.13907836e+09\n",
      "  3.14188546e+09 3.14004081e+09]\n",
      " ...\n",
      " [3.13876223e+09 3.13549572e+09 3.13907836e+09 ... 3.13545066e+09\n",
      "  3.13825452e+09 3.13641200e+09]\n",
      " [3.14156905e+09 3.13829963e+09 3.14188546e+09 ... 3.13825452e+09\n",
      "  3.14106089e+09 3.13921673e+09]\n",
      " [3.13972459e+09 3.13645708e+09 3.14004081e+09 ... 3.13641200e+09\n",
      "  3.13921673e+09 3.13737364e+09]]\n",
      "Extracting parameters from /Users/terekhova/Desktop/EEG-BOLD-Decoding/intermittent/interm/sub-101472/ses-1818/eeg/sub-101472_ses-1818_task-socword_run-01_eegMRbvCBbviiR250.vhdr...\n",
      "Setting channel info structure...\n",
      "Reading 0 ... 138045  =      0.000 ...   552.180 secs...\n",
      "Used Annotations descriptions: ['New Segment/', 'Pulse Artifact/R', 'Scanner/Scan Start', 'Stimulus/S  1', 'Stimulus/S  3', 'Stimulus/S  5', 'Stimulus/S  9', 'Stimulus/S 10', 'Stimulus/S 32', 'Stimulus/S 48', 'Stimulus/S 64', 'Stimulus/S 80', 'Stimulus/S 96']\n"
     ]
    },
    {
     "name": "stderr",
     "output_type": "stream",
     "text": [
      "/var/folders/_t/wzqtw10969z1swmc_n6s3p700000gp/T/ipykernel_12783/2795110670.py:7: RuntimeWarning: No coordinate information found for channels ['ECG']. Setting channel types to misc. To avoid this warning, set channel types explicitly.\n",
      "  eeg_raw = mne.io.read_raw_brainvision(eeg_vhdr_path, preload = True)\n",
      "/var/folders/_t/wzqtw10969z1swmc_n6s3p700000gp/T/ipykernel_12783/2795110670.py:7: RuntimeWarning: Not setting position of 1 misc channel found in montage:\n",
      "['ECG']\n",
      "Consider setting the channel types to be of EEG/sEEG/ECoG/DBS/fNIRS using inst.set_channel_types before calling inst.set_montage, or omit these channels when creating your montage.\n",
      "  eeg_raw = mne.io.read_raw_brainvision(eeg_vhdr_path, preload = True)\n"
     ]
    },
    {
     "name": "stdout",
     "output_type": "stream",
     "text": [
      "Not setting metadata\n",
      "46 matching events found\n",
      "No baseline correction applied\n",
      "0 projection items activated\n",
      "Using data from preloaded Raw for 46 events and 1250 original time points ...\n",
      "0 bad epochs dropped\n",
      "() [[3.21585535e+09 3.21561194e+09 3.21786999e+09 ... 3.21673551e+09\n",
      "  3.21173414e+09 3.21765746e+09]\n",
      " [3.21561194e+09 3.21536854e+09 3.21762643e+09 ... 3.21649203e+09\n",
      "  3.21149105e+09 3.21741392e+09]\n",
      " [3.21786999e+09 3.21762643e+09 3.21988590e+09 ... 3.21875071e+09\n",
      "  3.21374621e+09 3.21967324e+09]\n",
      " ...\n",
      " [3.21673551e+09 3.21649203e+09 3.21875071e+09 ... 3.21761591e+09\n",
      "  3.21261318e+09 3.21853812e+09]\n",
      " [3.21173414e+09 3.21149105e+09 3.21374621e+09 ... 3.21261318e+09\n",
      "  3.20761822e+09 3.21353395e+09]\n",
      " [3.21765746e+09 3.21741392e+09 3.21967324e+09 ... 3.21853812e+09\n",
      "  3.21353395e+09 3.21946059e+09]]\n",
      "Extracting parameters from /Users/terekhova/Desktop/EEG-BOLD-Decoding/intermittent/interm/sub-101472/ses-1818/eeg/sub-101472_ses-1818_task-socword_run-02_eegMRbvCBbviiR250.vhdr...\n",
      "Setting channel info structure...\n",
      "Reading 0 ... 138053  =      0.000 ...   552.212 secs...\n",
      "Used Annotations descriptions: ['New Segment/', 'Pulse Artifact/R', 'Scanner/Scan Start', 'Stimulus/S  1', 'Stimulus/S  3', 'Stimulus/S  5', 'Stimulus/S  9', 'Stimulus/S 10', 'Stimulus/S 32', 'Stimulus/S 48', 'Stimulus/S 64', 'Stimulus/S 80', 'Stimulus/S 96']\n"
     ]
    },
    {
     "name": "stderr",
     "output_type": "stream",
     "text": [
      "/var/folders/_t/wzqtw10969z1swmc_n6s3p700000gp/T/ipykernel_12783/2795110670.py:7: RuntimeWarning: No coordinate information found for channels ['ECG']. Setting channel types to misc. To avoid this warning, set channel types explicitly.\n",
      "  eeg_raw = mne.io.read_raw_brainvision(eeg_vhdr_path, preload = True)\n",
      "/var/folders/_t/wzqtw10969z1swmc_n6s3p700000gp/T/ipykernel_12783/2795110670.py:7: RuntimeWarning: Not setting position of 1 misc channel found in montage:\n",
      "['ECG']\n",
      "Consider setting the channel types to be of EEG/sEEG/ECoG/DBS/fNIRS using inst.set_channel_types before calling inst.set_montage, or omit these channels when creating your montage.\n",
      "  eeg_raw = mne.io.read_raw_brainvision(eeg_vhdr_path, preload = True)\n"
     ]
    },
    {
     "name": "stdout",
     "output_type": "stream",
     "text": [
      "Not setting metadata\n",
      "46 matching events found\n",
      "No baseline correction applied\n",
      "0 projection items activated\n",
      "Using data from preloaded Raw for 46 events and 1250 original time points ...\n",
      "0 bad epochs dropped\n",
      "() [[3.16936030e+09 3.17055684e+09 3.17229135e+09 ... 3.17093808e+09\n",
      "  3.17021389e+09 3.17476528e+09]\n",
      " [3.17055684e+09 3.17175384e+09 3.17348900e+09 ... 3.17213522e+09\n",
      "  3.17141076e+09 3.17596387e+09]\n",
      " [3.17229135e+09 3.17348900e+09 3.17522511e+09 ... 3.17387059e+09\n",
      "  3.17314574e+09 3.17770133e+09]\n",
      " ...\n",
      " [3.17093808e+09 3.17213522e+09 3.17387059e+09 ... 3.17251664e+09\n",
      "  3.17179210e+09 3.17634575e+09]\n",
      " [3.17021389e+09 3.17141076e+09 3.17314574e+09 ... 3.17179210e+09\n",
      "  3.17106772e+09 3.17562033e+09]\n",
      " [3.17476528e+09 3.17596387e+09 3.17770133e+09 ... 3.17634575e+09\n",
      "  3.17562033e+09 3.18017949e+09]]\n",
      "Extracting parameters from /Users/terekhova/Desktop/EEG-BOLD-Decoding/intermittent/interm/sub-101472/ses-1818/eeg/sub-101472_ses-1818_task-socword_run-03_eegMRbvCBbviiR250.vhdr...\n",
      "Setting channel info structure...\n",
      "Reading 0 ... 138057  =      0.000 ...   552.228 secs...\n",
      "Used Annotations descriptions: ['New Segment/', 'Pulse Artifact/R', 'Scanner/Scan Start', 'Stimulus/S  1', 'Stimulus/S  3', 'Stimulus/S  5', 'Stimulus/S  9', 'Stimulus/S 10', 'Stimulus/S 16', 'Stimulus/S 32', 'Stimulus/S 48', 'Stimulus/S 64', 'Stimulus/S 80', 'Stimulus/S 96']\n"
     ]
    },
    {
     "name": "stderr",
     "output_type": "stream",
     "text": [
      "/var/folders/_t/wzqtw10969z1swmc_n6s3p700000gp/T/ipykernel_12783/2795110670.py:7: RuntimeWarning: No coordinate information found for channels ['ECG']. Setting channel types to misc. To avoid this warning, set channel types explicitly.\n",
      "  eeg_raw = mne.io.read_raw_brainvision(eeg_vhdr_path, preload = True)\n",
      "/var/folders/_t/wzqtw10969z1swmc_n6s3p700000gp/T/ipykernel_12783/2795110670.py:7: RuntimeWarning: Not setting position of 1 misc channel found in montage:\n",
      "['ECG']\n",
      "Consider setting the channel types to be of EEG/sEEG/ECoG/DBS/fNIRS using inst.set_channel_types before calling inst.set_montage, or omit these channels when creating your montage.\n",
      "  eeg_raw = mne.io.read_raw_brainvision(eeg_vhdr_path, preload = True)\n"
     ]
    },
    {
     "name": "stdout",
     "output_type": "stream",
     "text": [
      "Not setting metadata\n",
      "46 matching events found\n",
      "No baseline correction applied\n",
      "0 projection items activated\n",
      "Using data from preloaded Raw for 46 events and 1250 original time points ...\n",
      "0 bad epochs dropped\n",
      "() [[3.13508290e+09 3.13391692e+09 3.13088251e+09 ... 3.13369978e+09\n",
      "  3.13403377e+09 3.13112106e+09]\n",
      " [3.13391692e+09 3.13275138e+09 3.12971809e+09 ... 3.13253431e+09\n",
      "  3.13286819e+09 3.12995656e+09]\n",
      " [3.13088251e+09 3.12971809e+09 3.12668775e+09 ... 3.12950124e+09\n",
      "  3.12983479e+09 3.12692598e+09]\n",
      " ...\n",
      " [3.13369978e+09 3.13253431e+09 3.12950124e+09 ... 3.13231726e+09\n",
      "  3.13265111e+09 3.12973968e+09]\n",
      " [3.13403377e+09 3.13286819e+09 3.12983479e+09 ... 3.13265111e+09\n",
      "  3.13298500e+09 3.13007326e+09]\n",
      " [3.13112106e+09 3.12995656e+09 3.12692598e+09 ... 3.12973968e+09\n",
      "  3.13007326e+09 3.12716423e+09]]\n",
      "Extracting parameters from /Users/terekhova/Desktop/EEG-BOLD-Decoding/intermittent/interm/sub-101472/ses-1818/eeg/sub-101472_ses-1818_task-socword_run-04_eegMRbvCBbviiR250.vhdr...\n",
      "Setting channel info structure...\n",
      "Reading 0 ... 138058  =      0.000 ...   552.232 secs...\n",
      "Used Annotations descriptions: ['New Segment/', 'Pulse Artifact/R', 'Scanner/Scan Start', 'Stimulus/S  1', 'Stimulus/S  3', 'Stimulus/S  5', 'Stimulus/S  9', 'Stimulus/S 10', 'Stimulus/S 16', 'Stimulus/S 32', 'Stimulus/S 48', 'Stimulus/S 64', 'Stimulus/S 80', 'Stimulus/S 96']\n"
     ]
    },
    {
     "name": "stderr",
     "output_type": "stream",
     "text": [
      "/var/folders/_t/wzqtw10969z1swmc_n6s3p700000gp/T/ipykernel_12783/2795110670.py:7: RuntimeWarning: No coordinate information found for channels ['ECG']. Setting channel types to misc. To avoid this warning, set channel types explicitly.\n",
      "  eeg_raw = mne.io.read_raw_brainvision(eeg_vhdr_path, preload = True)\n",
      "/var/folders/_t/wzqtw10969z1swmc_n6s3p700000gp/T/ipykernel_12783/2795110670.py:7: RuntimeWarning: Not setting position of 1 misc channel found in montage:\n",
      "['ECG']\n",
      "Consider setting the channel types to be of EEG/sEEG/ECoG/DBS/fNIRS using inst.set_channel_types before calling inst.set_montage, or omit these channels when creating your montage.\n",
      "  eeg_raw = mne.io.read_raw_brainvision(eeg_vhdr_path, preload = True)\n"
     ]
    },
    {
     "name": "stdout",
     "output_type": "stream",
     "text": [
      "Not setting metadata\n",
      "46 matching events found\n",
      "No baseline correction applied\n",
      "0 projection items activated\n",
      "Using data from preloaded Raw for 46 events and 1250 original time points ...\n",
      "0 bad epochs dropped\n",
      "() [[3.08757035e+09 3.09264392e+09 3.09341412e+09 ... 3.08899859e+09\n",
      "  3.09079020e+09 3.09102231e+09]\n",
      " [3.09264392e+09 3.09772583e+09 3.09849729e+09 ... 3.09407450e+09\n",
      "  3.09586906e+09 3.09610155e+09]\n",
      " [3.09341412e+09 3.09849729e+09 3.09926895e+09 ... 3.09484506e+09\n",
      "  3.09664007e+09 3.09687261e+09]\n",
      " ...\n",
      " [3.08899859e+09 3.09407450e+09 3.09484506e+09 ... 3.09042749e+09\n",
      "  3.09221993e+09 3.09245214e+09]\n",
      " [3.09079020e+09 3.09586906e+09 3.09664007e+09 ... 3.09221993e+09\n",
      "  3.09401341e+09 3.09424576e+09]\n",
      " [3.09102231e+09 3.09610155e+09 3.09687261e+09 ... 3.09245214e+09\n",
      "  3.09424576e+09 3.09447813e+09]]\n",
      "Extracting parameters from /Users/terekhova/Desktop/EEG-BOLD-Decoding/intermittent/interm/sub-101472/ses-1818/eeg/sub-101472_ses-1818_task-socword_run-05_eegMRbvCBbviiR250.vhdr...\n",
      "Setting channel info structure...\n",
      "Reading 0 ... 138057  =      0.000 ...   552.228 secs...\n",
      "Used Annotations descriptions: ['New Segment/', 'Pulse Artifact/R', 'Scanner/Scan Start', 'Stimulus/S  1', 'Stimulus/S  3', 'Stimulus/S  5', 'Stimulus/S  9', 'Stimulus/S 10', 'Stimulus/S 16', 'Stimulus/S 32', 'Stimulus/S 48', 'Stimulus/S 64', 'Stimulus/S 80', 'Stimulus/S 96']\n"
     ]
    },
    {
     "name": "stderr",
     "output_type": "stream",
     "text": [
      "/var/folders/_t/wzqtw10969z1swmc_n6s3p700000gp/T/ipykernel_12783/2795110670.py:7: RuntimeWarning: No coordinate information found for channels ['ECG']. Setting channel types to misc. To avoid this warning, set channel types explicitly.\n",
      "  eeg_raw = mne.io.read_raw_brainvision(eeg_vhdr_path, preload = True)\n",
      "/var/folders/_t/wzqtw10969z1swmc_n6s3p700000gp/T/ipykernel_12783/2795110670.py:7: RuntimeWarning: Not setting position of 1 misc channel found in montage:\n",
      "['ECG']\n",
      "Consider setting the channel types to be of EEG/sEEG/ECoG/DBS/fNIRS using inst.set_channel_types before calling inst.set_montage, or omit these channels when creating your montage.\n",
      "  eeg_raw = mne.io.read_raw_brainvision(eeg_vhdr_path, preload = True)\n"
     ]
    },
    {
     "name": "stdout",
     "output_type": "stream",
     "text": [
      "Not setting metadata\n",
      "46 matching events found\n",
      "No baseline correction applied\n",
      "0 projection items activated\n",
      "Using data from preloaded Raw for 46 events and 1250 original time points ...\n",
      "0 bad epochs dropped\n",
      "() [[3.08665589e+09 3.08784705e+09 3.08808971e+09 ... 3.08726690e+09\n",
      "  3.08638291e+09 3.08515656e+09]\n",
      " [3.08784705e+09 3.08903867e+09 3.08928142e+09 ... 3.08845829e+09\n",
      "  3.08757396e+09 3.08634714e+09]\n",
      " [3.08808971e+09 3.08928142e+09 3.08952420e+09 ... 3.08870100e+09\n",
      "  3.08781661e+09 3.08658969e+09]\n",
      " ...\n",
      " [3.08726690e+09 3.08845829e+09 3.08870100e+09 ... 3.08787803e+09\n",
      "  3.08699387e+09 3.08576728e+09]\n",
      " [3.08638291e+09 3.08757396e+09 3.08781661e+09 ... 3.08699387e+09\n",
      "  3.08610996e+09 3.08488372e+09]\n",
      " [3.08515656e+09 3.08634714e+09 3.08658969e+09 ... 3.08576728e+09\n",
      "  3.08488372e+09 3.08365796e+09]]\n",
      "Extracting parameters from /Users/terekhova/Desktop/EEG-BOLD-Decoding/intermittent/interm/sub-101472/ses-1818/eeg/sub-101472_ses-1818_task-socword_run-06_eegMRbvCBbviiR250.vhdr...\n",
      "Setting channel info structure...\n",
      "Reading 0 ... 138056  =      0.000 ...   552.224 secs...\n",
      "Used Annotations descriptions: ['New Segment/', 'Pulse Artifact/R', 'Scanner/Scan Start', 'Stimulus/S  1', 'Stimulus/S  3', 'Stimulus/S  5', 'Stimulus/S  9', 'Stimulus/S 10', 'Stimulus/S 16', 'Stimulus/S 32', 'Stimulus/S 48', 'Stimulus/S 64', 'Stimulus/S 80', 'Stimulus/S 96']\n"
     ]
    },
    {
     "name": "stderr",
     "output_type": "stream",
     "text": [
      "/var/folders/_t/wzqtw10969z1swmc_n6s3p700000gp/T/ipykernel_12783/2795110670.py:7: RuntimeWarning: No coordinate information found for channels ['ECG']. Setting channel types to misc. To avoid this warning, set channel types explicitly.\n",
      "  eeg_raw = mne.io.read_raw_brainvision(eeg_vhdr_path, preload = True)\n",
      "/var/folders/_t/wzqtw10969z1swmc_n6s3p700000gp/T/ipykernel_12783/2795110670.py:7: RuntimeWarning: Not setting position of 1 misc channel found in montage:\n",
      "['ECG']\n",
      "Consider setting the channel types to be of EEG/sEEG/ECoG/DBS/fNIRS using inst.set_channel_types before calling inst.set_montage, or omit these channels when creating your montage.\n",
      "  eeg_raw = mne.io.read_raw_brainvision(eeg_vhdr_path, preload = True)\n"
     ]
    },
    {
     "name": "stdout",
     "output_type": "stream",
     "text": [
      "Not setting metadata\n",
      "46 matching events found\n",
      "No baseline correction applied\n",
      "0 projection items activated\n",
      "Using data from preloaded Raw for 46 events and 1250 original time points ...\n",
      "0 bad epochs dropped\n",
      "() [[3.14113744e+09 3.13434510e+09 3.13827622e+09 ... 3.13842667e+09\n",
      "  3.13750916e+09 3.13840982e+09]\n",
      " [3.13434510e+09 3.12756745e+09 3.13149007e+09 ... 3.13164019e+09\n",
      "  3.13072466e+09 3.13162338e+09]\n",
      " [3.13827622e+09 3.13149007e+09 3.13541761e+09 ... 3.13556791e+09\n",
      "  3.13465124e+09 3.13555108e+09]\n",
      " ...\n",
      " [3.13842667e+09 3.13164019e+09 3.13556791e+09 ... 3.13571823e+09\n",
      "  3.13480151e+09 3.13570140e+09]\n",
      " [3.13750916e+09 3.13072466e+09 3.13465124e+09 ... 3.13480151e+09\n",
      "  3.13388506e+09 3.13478468e+09]\n",
      " [3.13840982e+09 3.13162338e+09 3.13555108e+09 ... 3.13570140e+09\n",
      "  3.13478468e+09 3.13568456e+09]]\n",
      "Extracting parameters from /Users/terekhova/Desktop/EEG-BOLD-Decoding/intermittent/interm/sub-101472/ses-1895/eeg/sub-101472_ses-1895_task-rs_run-01_eegMRbvCBbviiR250.vhdr...\n",
      "Setting channel info structure...\n",
      "Reading 0 ... 138057  =      0.000 ...   552.228 secs...\n",
      "Used Annotations descriptions: ['New Segment/', 'Pulse Artifact/R', 'Scanner/Scan Start']\n"
     ]
    },
    {
     "name": "stderr",
     "output_type": "stream",
     "text": [
      "/var/folders/_t/wzqtw10969z1swmc_n6s3p700000gp/T/ipykernel_12783/2795110670.py:7: RuntimeWarning: No coordinate information found for channels ['ECG']. Setting channel types to misc. To avoid this warning, set channel types explicitly.\n",
      "  eeg_raw = mne.io.read_raw_brainvision(eeg_vhdr_path, preload = True)\n",
      "/var/folders/_t/wzqtw10969z1swmc_n6s3p700000gp/T/ipykernel_12783/2795110670.py:7: RuntimeWarning: Not setting position of 1 misc channel found in montage:\n",
      "['ECG']\n",
      "Consider setting the channel types to be of EEG/sEEG/ECoG/DBS/fNIRS using inst.set_channel_types before calling inst.set_montage, or omit these channels when creating your montage.\n",
      "  eeg_raw = mne.io.read_raw_brainvision(eeg_vhdr_path, preload = True)\n"
     ]
    },
    {
     "name": "stdout",
     "output_type": "stream",
     "text": [
      "Not setting metadata\n",
      "46 matching events found\n",
      "No baseline correction applied\n",
      "0 projection items activated\n",
      "Using data from preloaded Raw for 46 events and 1250 original time points ...\n",
      "0 bad epochs dropped\n",
      "() [[2.29888287e+09 2.29584989e+09 2.29559003e+09 ... 2.29554773e+09\n",
      "  2.29453561e+09 2.29690766e+09]\n",
      " [2.29584989e+09 2.29282092e+09 2.29256140e+09 ... 2.29251915e+09\n",
      "  2.29150837e+09 2.29387729e+09]\n",
      " [2.29559003e+09 2.29256140e+09 2.29230191e+09 ... 2.29225967e+09\n",
      "  2.29124900e+09 2.29361765e+09]\n",
      " ...\n",
      " [2.29554773e+09 2.29251915e+09 2.29225967e+09 ... 2.29221743e+09\n",
      "  2.29120678e+09 2.29357538e+09]\n",
      " [2.29453561e+09 2.29150837e+09 2.29124900e+09 ... 2.29120678e+09\n",
      "  2.29019657e+09 2.29256413e+09]\n",
      " [2.29690766e+09 2.29387729e+09 2.29361765e+09 ... 2.29357538e+09\n",
      "  2.29256413e+09 2.29493414e+09]]\n",
      "Extracting parameters from /Users/terekhova/Desktop/EEG-BOLD-Decoding/intermittent/interm/sub-101472/ses-1895/eeg/sub-101472_ses-1895_task-rs_run-02_eegMRbvCBbviiR250.vhdr...\n",
      "Setting channel info structure...\n",
      "Reading 0 ... 138024  =      0.000 ...   552.096 secs...\n",
      "Used Annotations descriptions: ['New Segment/', 'Pulse Artifact/R', 'Scanner/Scan Start']\n"
     ]
    },
    {
     "name": "stderr",
     "output_type": "stream",
     "text": [
      "/var/folders/_t/wzqtw10969z1swmc_n6s3p700000gp/T/ipykernel_12783/2795110670.py:7: RuntimeWarning: No coordinate information found for channels ['ECG']. Setting channel types to misc. To avoid this warning, set channel types explicitly.\n",
      "  eeg_raw = mne.io.read_raw_brainvision(eeg_vhdr_path, preload = True)\n",
      "/var/folders/_t/wzqtw10969z1swmc_n6s3p700000gp/T/ipykernel_12783/2795110670.py:7: RuntimeWarning: Not setting position of 1 misc channel found in montage:\n",
      "['ECG']\n",
      "Consider setting the channel types to be of EEG/sEEG/ECoG/DBS/fNIRS using inst.set_channel_types before calling inst.set_montage, or omit these channels when creating your montage.\n",
      "  eeg_raw = mne.io.read_raw_brainvision(eeg_vhdr_path, preload = True)\n"
     ]
    },
    {
     "name": "stdout",
     "output_type": "stream",
     "text": [
      "Not setting metadata\n",
      "46 matching events found\n",
      "No baseline correction applied\n",
      "0 projection items activated\n",
      "Using data from preloaded Raw for 46 events and 1250 original time points ...\n",
      "0 bad epochs dropped\n",
      "() [[2.27655567e+09 2.27624040e+09 2.27477755e+09 ... 2.27605235e+09\n",
      "  2.27720896e+09 2.27603372e+09]\n",
      " [2.27624040e+09 2.27592519e+09 2.27446254e+09 ... 2.27573716e+09\n",
      "  2.27689361e+09 2.27571853e+09]\n",
      " [2.27477755e+09 2.27446254e+09 2.27300083e+09 ... 2.27427463e+09\n",
      "  2.27543034e+09 2.27425601e+09]\n",
      " ...\n",
      " [2.27605235e+09 2.27573716e+09 2.27427463e+09 ... 2.27554915e+09\n",
      "  2.27670551e+09 2.27553052e+09]\n",
      " [2.27720896e+09 2.27689361e+09 2.27543034e+09 ... 2.27670551e+09\n",
      "  2.27786245e+09 2.27668687e+09]\n",
      " [2.27603372e+09 2.27571853e+09 2.27425601e+09 ... 2.27553052e+09\n",
      "  2.27668687e+09 2.27551189e+09]]\n",
      "Extracting parameters from /Users/terekhova/Desktop/EEG-BOLD-Decoding/intermittent/interm/sub-101472/ses-1895/eeg/sub-101472_ses-1895_task-socword_run-01_eegMRbvCBbviiR250.vhdr...\n",
      "Setting channel info structure...\n",
      "Reading 0 ... 138065  =      0.000 ...   552.260 secs...\n",
      "Used Annotations descriptions: ['New Segment/', 'Pulse Artifact/R', 'Scanner/Scan Start', 'Stimulus/S  1', 'Stimulus/S  3', 'Stimulus/S  5', 'Stimulus/S  9', 'Stimulus/S 10', 'Stimulus/S 32', 'Stimulus/S 48', 'Stimulus/S 64', 'Stimulus/S 80', 'Stimulus/S 96']\n"
     ]
    },
    {
     "name": "stderr",
     "output_type": "stream",
     "text": [
      "/var/folders/_t/wzqtw10969z1swmc_n6s3p700000gp/T/ipykernel_12783/2795110670.py:7: RuntimeWarning: No coordinate information found for channels ['ECG']. Setting channel types to misc. To avoid this warning, set channel types explicitly.\n",
      "  eeg_raw = mne.io.read_raw_brainvision(eeg_vhdr_path, preload = True)\n",
      "/var/folders/_t/wzqtw10969z1swmc_n6s3p700000gp/T/ipykernel_12783/2795110670.py:7: RuntimeWarning: Not setting position of 1 misc channel found in montage:\n",
      "['ECG']\n",
      "Consider setting the channel types to be of EEG/sEEG/ECoG/DBS/fNIRS using inst.set_channel_types before calling inst.set_montage, or omit these channels when creating your montage.\n",
      "  eeg_raw = mne.io.read_raw_brainvision(eeg_vhdr_path, preload = True)\n"
     ]
    },
    {
     "name": "stdout",
     "output_type": "stream",
     "text": [
      "Not setting metadata\n",
      "46 matching events found\n",
      "No baseline correction applied\n",
      "0 projection items activated\n",
      "Using data from preloaded Raw for 46 events and 1250 original time points ...\n",
      "0 bad epochs dropped\n",
      "() [[2.23904777e+09 2.24168136e+09 2.23690697e+09 ... 2.24023973e+09\n",
      "  2.23740222e+09 2.24161079e+09]\n",
      " [2.24168136e+09 2.24431805e+09 2.23953804e+09 ... 2.24287472e+09\n",
      "  2.24003388e+09 2.24424740e+09]\n",
      " [2.23690697e+09 2.23953804e+09 2.23476821e+09 ... 2.23809778e+09\n",
      "  2.23526299e+09 2.23946754e+09]\n",
      " ...\n",
      " [2.24023973e+09 2.24287472e+09 2.23809778e+09 ... 2.24143232e+09\n",
      "  2.23859330e+09 2.24280411e+09]\n",
      " [2.23740222e+09 2.24003388e+09 2.23526299e+09 ... 2.23859330e+09\n",
      "  2.23575788e+09 2.23996336e+09]\n",
      " [2.24161079e+09 2.24424740e+09 2.23946754e+09 ... 2.24280411e+09\n",
      "  2.23996336e+09 2.24417675e+09]]\n",
      "Extracting parameters from /Users/terekhova/Desktop/EEG-BOLD-Decoding/intermittent/interm/sub-101472/ses-1895/eeg/sub-101472_ses-1895_task-socword_run-02_eegMRbvCBbviiR250.vhdr...\n",
      "Setting channel info structure...\n",
      "Reading 0 ... 138057  =      0.000 ...   552.228 secs...\n",
      "Used Annotations descriptions: ['New Segment/', 'Pulse Artifact/R', 'Scanner/Scan Start', 'Stimulus/S  1', 'Stimulus/S  3', 'Stimulus/S  5', 'Stimulus/S  9', 'Stimulus/S 10', 'Stimulus/S 16', 'Stimulus/S 32', 'Stimulus/S 48', 'Stimulus/S 64', 'Stimulus/S 96']\n"
     ]
    },
    {
     "name": "stderr",
     "output_type": "stream",
     "text": [
      "/var/folders/_t/wzqtw10969z1swmc_n6s3p700000gp/T/ipykernel_12783/2795110670.py:7: RuntimeWarning: No coordinate information found for channels ['ECG']. Setting channel types to misc. To avoid this warning, set channel types explicitly.\n",
      "  eeg_raw = mne.io.read_raw_brainvision(eeg_vhdr_path, preload = True)\n",
      "/var/folders/_t/wzqtw10969z1swmc_n6s3p700000gp/T/ipykernel_12783/2795110670.py:7: RuntimeWarning: Not setting position of 1 misc channel found in montage:\n",
      "['ECG']\n",
      "Consider setting the channel types to be of EEG/sEEG/ECoG/DBS/fNIRS using inst.set_channel_types before calling inst.set_montage, or omit these channels when creating your montage.\n",
      "  eeg_raw = mne.io.read_raw_brainvision(eeg_vhdr_path, preload = True)\n"
     ]
    },
    {
     "name": "stdout",
     "output_type": "stream",
     "text": [
      "Not setting metadata\n",
      "46 matching events found\n",
      "No baseline correction applied\n",
      "0 projection items activated\n",
      "Using data from preloaded Raw for 46 events and 1250 original time points ...\n",
      "0 bad epochs dropped\n",
      "() [[2.26397457e+09 2.26555430e+09 2.26701266e+09 ... 2.26483164e+09\n",
      "  2.26879220e+09 2.26928592e+09]\n",
      " [2.26555430e+09 2.26713514e+09 2.26859452e+09 ... 2.26641197e+09\n",
      "  2.27037530e+09 2.27086937e+09]\n",
      " [2.26701266e+09 2.26859452e+09 2.27005483e+09 ... 2.26787088e+09\n",
      "  2.27183676e+09 2.27233114e+09]\n",
      " ...\n",
      " [2.26483164e+09 2.26641197e+09 2.26787088e+09 ... 2.26568903e+09\n",
      "  2.26965110e+09 2.27014500e+09]\n",
      " [2.26879220e+09 2.27037530e+09 2.27183676e+09 ... 2.26965110e+09\n",
      "  2.27362009e+09 2.27411486e+09]\n",
      " [2.26928592e+09 2.27086937e+09 2.27233114e+09 ... 2.27014500e+09\n",
      "  2.27411486e+09 2.27460974e+09]]\n",
      "Extracting parameters from /Users/terekhova/Desktop/EEG-BOLD-Decoding/intermittent/interm/sub-101472/ses-1895/eeg/sub-101472_ses-1895_task-socword_run-03_eegMRbvCBbviiR250.vhdr...\n",
      "Setting channel info structure...\n",
      "Reading 0 ... 138024  =      0.000 ...   552.096 secs...\n",
      "Used Annotations descriptions: ['New Segment/', 'Pulse Artifact/R', 'Scanner/Scan Start', 'Stimulus/S  1', 'Stimulus/S  3', 'Stimulus/S  5', 'Stimulus/S  9', 'Stimulus/S 10', 'Stimulus/S 32', 'Stimulus/S 48', 'Stimulus/S 64', 'Stimulus/S 80', 'Stimulus/S 96']\n"
     ]
    },
    {
     "name": "stderr",
     "output_type": "stream",
     "text": [
      "/var/folders/_t/wzqtw10969z1swmc_n6s3p700000gp/T/ipykernel_12783/2795110670.py:7: RuntimeWarning: No coordinate information found for channels ['ECG']. Setting channel types to misc. To avoid this warning, set channel types explicitly.\n",
      "  eeg_raw = mne.io.read_raw_brainvision(eeg_vhdr_path, preload = True)\n",
      "/var/folders/_t/wzqtw10969z1swmc_n6s3p700000gp/T/ipykernel_12783/2795110670.py:7: RuntimeWarning: Not setting position of 1 misc channel found in montage:\n",
      "['ECG']\n",
      "Consider setting the channel types to be of EEG/sEEG/ECoG/DBS/fNIRS using inst.set_channel_types before calling inst.set_montage, or omit these channels when creating your montage.\n",
      "  eeg_raw = mne.io.read_raw_brainvision(eeg_vhdr_path, preload = True)\n"
     ]
    },
    {
     "name": "stdout",
     "output_type": "stream",
     "text": [
      "Not setting metadata\n",
      "46 matching events found\n",
      "No baseline correction applied\n",
      "0 projection items activated\n",
      "Using data from preloaded Raw for 46 events and 1250 original time points ...\n",
      "0 bad epochs dropped\n",
      "() [[2.25935911e+09 2.25686888e+09 2.25476622e+09 ... 2.25679738e+09\n",
      "  2.26039735e+09 2.25540138e+09]\n",
      " [2.25686888e+09 2.25438140e+09 2.25228105e+09 ... 2.25430998e+09\n",
      "  2.25790598e+09 2.25291551e+09]\n",
      " [2.25476622e+09 2.25228105e+09 2.25018266e+09 ... 2.25220969e+09\n",
      "  2.25580235e+09 2.25081653e+09]\n",
      " ...\n",
      " [2.25679738e+09 2.25430998e+09 2.25220969e+09 ... 2.25423856e+09\n",
      "  2.25783444e+09 2.25284413e+09]\n",
      " [2.26039735e+09 2.25790598e+09 2.25580235e+09 ... 2.25783444e+09\n",
      "  2.26143607e+09 2.25643780e+09]\n",
      " [2.25540138e+09 2.25291551e+09 2.25081653e+09 ... 2.25284413e+09\n",
      "  2.25643780e+09 2.25145058e+09]]\n"
     ]
    }
   ],
   "source": [
    "root = '/Users/terekhova/Desktop/EEG-BOLD-Decoding/intermittent/interm/sub-101472'\n",
    "sessions = ['1818', '1895']\n",
    "\n",
    "datasets, rois, eeg_channels, event_ids_dict= load_multiple_files(root = root, sessions=['1818', '1895'],\n",
    "                                                  rois = None, eeg_channels = None, \n",
    "                                                  rois_for_global_trend = None, roi_folder = 'roi', separate_global_trend=separate_global_trend)\n",
    "     \n"
   ]
  },
  {
   "cell_type": "code",
   "execution_count": 53,
   "metadata": {},
   "outputs": [
    {
     "name": "stdout",
     "output_type": "stream",
     "text": [
      "Extracting parameters from /Users/terekhova/Desktop/EEG-BOLD-Decoding/intermittent/interm/sub-101472/ses-1804/eeg/sub-101472_ses-1804_task-rs_run-01_eegMRbvCBbviiR250.vhdr...\n",
      "Setting channel info structure...\n",
      "Reading 0 ... 138063  =      0.000 ...   552.252 secs...\n",
      "Extracting parameters from /Users/terekhova/Desktop/EEG-BOLD-Decoding/intermittent/interm/sub-101472/ses-1818/eeg/sub-101472_ses-1818_task-rs_run-01_eegMRbvCBbviiR250.vhdr...\n",
      "Setting channel info structure...\n",
      "Reading 0 ... 138060  =      0.000 ...   552.240 secs...\n"
     ]
    },
    {
     "name": "stderr",
     "output_type": "stream",
     "text": [
      "/var/folders/_t/wzqtw10969z1swmc_n6s3p700000gp/T/ipykernel_12783/2664388218.py:14: RuntimeWarning: No coordinate information found for channels ['ECG']. Setting channel types to misc. To avoid this warning, set channel types explicitly.\n",
      "  eeg_raw_1804 = mne.io.read_raw_brainvision(eeg_vhdr_path_1804, preload = True)\n",
      "/var/folders/_t/wzqtw10969z1swmc_n6s3p700000gp/T/ipykernel_12783/2664388218.py:14: RuntimeWarning: Not setting position of 1 misc channel found in montage:\n",
      "['ECG']\n",
      "Consider setting the channel types to be of EEG/sEEG/ECoG/DBS/fNIRS using inst.set_channel_types before calling inst.set_montage, or omit these channels when creating your montage.\n",
      "  eeg_raw_1804 = mne.io.read_raw_brainvision(eeg_vhdr_path_1804, preload = True)\n",
      "/var/folders/_t/wzqtw10969z1swmc_n6s3p700000gp/T/ipykernel_12783/2664388218.py:15: RuntimeWarning: No coordinate information found for channels ['ECG']. Setting channel types to misc. To avoid this warning, set channel types explicitly.\n",
      "  eeg_raw_1818 = mne.io.read_raw_brainvision(eeg_vhdr_path_1818, preload = True)\n",
      "/var/folders/_t/wzqtw10969z1swmc_n6s3p700000gp/T/ipykernel_12783/2664388218.py:15: RuntimeWarning: Not setting position of 1 misc channel found in montage:\n",
      "['ECG']\n",
      "Consider setting the channel types to be of EEG/sEEG/ECoG/DBS/fNIRS using inst.set_channel_types before calling inst.set_montage, or omit these channels when creating your montage.\n",
      "  eeg_raw_1818 = mne.io.read_raw_brainvision(eeg_vhdr_path_1818, preload = True)\n"
     ]
    },
    {
     "name": "stdout",
     "output_type": "stream",
     "text": [
      "Extracting parameters from /Users/terekhova/Desktop/EEG-BOLD-Decoding/intermittent/interm/sub-101472/ses-1804/eeg/sub-101472_ses-1804_task-rs_run-02_eegMRbvCBbviiR250.vhdr...\n",
      "Setting channel info structure...\n",
      "Reading 0 ... 138062  =      0.000 ...   552.248 secs...\n",
      "Extracting parameters from /Users/terekhova/Desktop/EEG-BOLD-Decoding/intermittent/interm/sub-101472/ses-1818/eeg/sub-101472_ses-1818_task-rs_run-02_eegMRbvCBbviiR250.vhdr...\n",
      "Setting channel info structure...\n",
      "Reading 0 ... 138059  =      0.000 ...   552.236 secs...\n"
     ]
    },
    {
     "name": "stderr",
     "output_type": "stream",
     "text": [
      "/var/folders/_t/wzqtw10969z1swmc_n6s3p700000gp/T/ipykernel_12783/2664388218.py:14: RuntimeWarning: No coordinate information found for channels ['ECG']. Setting channel types to misc. To avoid this warning, set channel types explicitly.\n",
      "  eeg_raw_1804 = mne.io.read_raw_brainvision(eeg_vhdr_path_1804, preload = True)\n",
      "/var/folders/_t/wzqtw10969z1swmc_n6s3p700000gp/T/ipykernel_12783/2664388218.py:14: RuntimeWarning: Not setting position of 1 misc channel found in montage:\n",
      "['ECG']\n",
      "Consider setting the channel types to be of EEG/sEEG/ECoG/DBS/fNIRS using inst.set_channel_types before calling inst.set_montage, or omit these channels when creating your montage.\n",
      "  eeg_raw_1804 = mne.io.read_raw_brainvision(eeg_vhdr_path_1804, preload = True)\n",
      "/var/folders/_t/wzqtw10969z1swmc_n6s3p700000gp/T/ipykernel_12783/2664388218.py:15: RuntimeWarning: No coordinate information found for channels ['ECG']. Setting channel types to misc. To avoid this warning, set channel types explicitly.\n",
      "  eeg_raw_1818 = mne.io.read_raw_brainvision(eeg_vhdr_path_1818, preload = True)\n",
      "/var/folders/_t/wzqtw10969z1swmc_n6s3p700000gp/T/ipykernel_12783/2664388218.py:15: RuntimeWarning: Not setting position of 1 misc channel found in montage:\n",
      "['ECG']\n",
      "Consider setting the channel types to be of EEG/sEEG/ECoG/DBS/fNIRS using inst.set_channel_types before calling inst.set_montage, or omit these channels when creating your montage.\n",
      "  eeg_raw_1818 = mne.io.read_raw_brainvision(eeg_vhdr_path_1818, preload = True)\n"
     ]
    },
    {
     "name": "stdout",
     "output_type": "stream",
     "text": [
      "Extracting parameters from /Users/terekhova/Desktop/EEG-BOLD-Decoding/intermittent/interm/sub-101472/ses-1804/eeg/sub-101472_ses-1804_task-rs_run-03_eegMRbvCBbviiR250.vhdr...\n",
      "Setting channel info structure...\n",
      "Reading 0 ... 138068  =      0.000 ...   552.272 secs...\n",
      "Extracting parameters from /Users/terekhova/Desktop/EEG-BOLD-Decoding/intermittent/interm/sub-101472/ses-1818/eeg/sub-101472_ses-1818_task-rs_run-03_eegMRbvCBbviiR250.vhdr...\n",
      "Setting channel info structure...\n",
      "Reading 0 ... 138055  =      0.000 ...   552.220 secs...\n"
     ]
    },
    {
     "name": "stderr",
     "output_type": "stream",
     "text": [
      "/var/folders/_t/wzqtw10969z1swmc_n6s3p700000gp/T/ipykernel_12783/2664388218.py:14: RuntimeWarning: No coordinate information found for channels ['ECG']. Setting channel types to misc. To avoid this warning, set channel types explicitly.\n",
      "  eeg_raw_1804 = mne.io.read_raw_brainvision(eeg_vhdr_path_1804, preload = True)\n",
      "/var/folders/_t/wzqtw10969z1swmc_n6s3p700000gp/T/ipykernel_12783/2664388218.py:14: RuntimeWarning: Not setting position of 1 misc channel found in montage:\n",
      "['ECG']\n",
      "Consider setting the channel types to be of EEG/sEEG/ECoG/DBS/fNIRS using inst.set_channel_types before calling inst.set_montage, or omit these channels when creating your montage.\n",
      "  eeg_raw_1804 = mne.io.read_raw_brainvision(eeg_vhdr_path_1804, preload = True)\n",
      "/var/folders/_t/wzqtw10969z1swmc_n6s3p700000gp/T/ipykernel_12783/2664388218.py:15: RuntimeWarning: No coordinate information found for channels ['ECG']. Setting channel types to misc. To avoid this warning, set channel types explicitly.\n",
      "  eeg_raw_1818 = mne.io.read_raw_brainvision(eeg_vhdr_path_1818, preload = True)\n",
      "/var/folders/_t/wzqtw10969z1swmc_n6s3p700000gp/T/ipykernel_12783/2664388218.py:15: RuntimeWarning: Not setting position of 1 misc channel found in montage:\n",
      "['ECG']\n",
      "Consider setting the channel types to be of EEG/sEEG/ECoG/DBS/fNIRS using inst.set_channel_types before calling inst.set_montage, or omit these channels when creating your montage.\n",
      "  eeg_raw_1818 = mne.io.read_raw_brainvision(eeg_vhdr_path_1818, preload = True)\n"
     ]
    },
    {
     "name": "stdout",
     "output_type": "stream",
     "text": [
      "Extracting parameters from /Users/terekhova/Desktop/EEG-BOLD-Decoding/intermittent/interm/sub-101472/ses-1804/eeg/sub-101472_ses-1804_task-rs_run-04_eegMRbvCBbviiR250.vhdr...\n",
      "Setting channel info structure...\n",
      "Reading 0 ... 138058  =      0.000 ...   552.232 secs...\n",
      "Extracting parameters from /Users/terekhova/Desktop/EEG-BOLD-Decoding/intermittent/interm/sub-101472/ses-1818/eeg/sub-101472_ses-1818_task-rs_run-04_eegMRbvCBbviiR250.vhdr...\n",
      "Setting channel info structure...\n",
      "Reading 0 ... 138056  =      0.000 ...   552.224 secs...\n"
     ]
    },
    {
     "name": "stderr",
     "output_type": "stream",
     "text": [
      "/var/folders/_t/wzqtw10969z1swmc_n6s3p700000gp/T/ipykernel_12783/2664388218.py:14: RuntimeWarning: No coordinate information found for channels ['ECG']. Setting channel types to misc. To avoid this warning, set channel types explicitly.\n",
      "  eeg_raw_1804 = mne.io.read_raw_brainvision(eeg_vhdr_path_1804, preload = True)\n",
      "/var/folders/_t/wzqtw10969z1swmc_n6s3p700000gp/T/ipykernel_12783/2664388218.py:14: RuntimeWarning: Not setting position of 1 misc channel found in montage:\n",
      "['ECG']\n",
      "Consider setting the channel types to be of EEG/sEEG/ECoG/DBS/fNIRS using inst.set_channel_types before calling inst.set_montage, or omit these channels when creating your montage.\n",
      "  eeg_raw_1804 = mne.io.read_raw_brainvision(eeg_vhdr_path_1804, preload = True)\n",
      "/var/folders/_t/wzqtw10969z1swmc_n6s3p700000gp/T/ipykernel_12783/2664388218.py:15: RuntimeWarning: No coordinate information found for channels ['ECG']. Setting channel types to misc. To avoid this warning, set channel types explicitly.\n",
      "  eeg_raw_1818 = mne.io.read_raw_brainvision(eeg_vhdr_path_1818, preload = True)\n",
      "/var/folders/_t/wzqtw10969z1swmc_n6s3p700000gp/T/ipykernel_12783/2664388218.py:15: RuntimeWarning: Not setting position of 1 misc channel found in montage:\n",
      "['ECG']\n",
      "Consider setting the channel types to be of EEG/sEEG/ECoG/DBS/fNIRS using inst.set_channel_types before calling inst.set_montage, or omit these channels when creating your montage.\n",
      "  eeg_raw_1818 = mne.io.read_raw_brainvision(eeg_vhdr_path_1818, preload = True)\n"
     ]
    },
    {
     "name": "stdout",
     "output_type": "stream",
     "text": [
      "Extracting parameters from /Users/terekhova/Desktop/EEG-BOLD-Decoding/intermittent/interm/sub-101472/ses-1804/eeg/sub-101472_ses-1804_task-rs_run-05_eegMRbvCBbviiR250.vhdr...\n",
      "Setting channel info structure...\n",
      "Reading 0 ... 138057  =      0.000 ...   552.228 secs...\n",
      "Extracting parameters from /Users/terekhova/Desktop/EEG-BOLD-Decoding/intermittent/interm/sub-101472/ses-1818/eeg/sub-101472_ses-1818_task-rs_run-05_eegMRbvCBbviiR250.vhdr...\n",
      "Setting channel info structure...\n",
      "Reading 0 ... 138056  =      0.000 ...   552.224 secs...\n"
     ]
    },
    {
     "name": "stderr",
     "output_type": "stream",
     "text": [
      "/var/folders/_t/wzqtw10969z1swmc_n6s3p700000gp/T/ipykernel_12783/2664388218.py:14: RuntimeWarning: No coordinate information found for channels ['ECG']. Setting channel types to misc. To avoid this warning, set channel types explicitly.\n",
      "  eeg_raw_1804 = mne.io.read_raw_brainvision(eeg_vhdr_path_1804, preload = True)\n",
      "/var/folders/_t/wzqtw10969z1swmc_n6s3p700000gp/T/ipykernel_12783/2664388218.py:14: RuntimeWarning: Not setting position of 1 misc channel found in montage:\n",
      "['ECG']\n",
      "Consider setting the channel types to be of EEG/sEEG/ECoG/DBS/fNIRS using inst.set_channel_types before calling inst.set_montage, or omit these channels when creating your montage.\n",
      "  eeg_raw_1804 = mne.io.read_raw_brainvision(eeg_vhdr_path_1804, preload = True)\n",
      "/var/folders/_t/wzqtw10969z1swmc_n6s3p700000gp/T/ipykernel_12783/2664388218.py:15: RuntimeWarning: No coordinate information found for channels ['ECG']. Setting channel types to misc. To avoid this warning, set channel types explicitly.\n",
      "  eeg_raw_1818 = mne.io.read_raw_brainvision(eeg_vhdr_path_1818, preload = True)\n",
      "/var/folders/_t/wzqtw10969z1swmc_n6s3p700000gp/T/ipykernel_12783/2664388218.py:15: RuntimeWarning: Not setting position of 1 misc channel found in montage:\n",
      "['ECG']\n",
      "Consider setting the channel types to be of EEG/sEEG/ECoG/DBS/fNIRS using inst.set_channel_types before calling inst.set_montage, or omit these channels when creating your montage.\n",
      "  eeg_raw_1818 = mne.io.read_raw_brainvision(eeg_vhdr_path_1818, preload = True)\n"
     ]
    },
    {
     "name": "stdout",
     "output_type": "stream",
     "text": [
      "Extracting parameters from /Users/terekhova/Desktop/EEG-BOLD-Decoding/intermittent/interm/sub-101472/ses-1804/eeg/sub-101472_ses-1804_task-rs_run-06_eegMRbvCBbviiR250.vhdr...\n",
      "Setting channel info structure...\n",
      "Reading 0 ... 138056  =      0.000 ...   552.224 secs...\n",
      "Extracting parameters from /Users/terekhova/Desktop/EEG-BOLD-Decoding/intermittent/interm/sub-101472/ses-1818/eeg/sub-101472_ses-1818_task-rs_run-06_eegMRbvCBbviiR250.vhdr...\n",
      "Setting channel info structure...\n",
      "Reading 0 ... 138060  =      0.000 ...   552.240 secs...\n"
     ]
    },
    {
     "name": "stderr",
     "output_type": "stream",
     "text": [
      "/var/folders/_t/wzqtw10969z1swmc_n6s3p700000gp/T/ipykernel_12783/2664388218.py:14: RuntimeWarning: No coordinate information found for channels ['ECG']. Setting channel types to misc. To avoid this warning, set channel types explicitly.\n",
      "  eeg_raw_1804 = mne.io.read_raw_brainvision(eeg_vhdr_path_1804, preload = True)\n",
      "/var/folders/_t/wzqtw10969z1swmc_n6s3p700000gp/T/ipykernel_12783/2664388218.py:14: RuntimeWarning: Not setting position of 1 misc channel found in montage:\n",
      "['ECG']\n",
      "Consider setting the channel types to be of EEG/sEEG/ECoG/DBS/fNIRS using inst.set_channel_types before calling inst.set_montage, or omit these channels when creating your montage.\n",
      "  eeg_raw_1804 = mne.io.read_raw_brainvision(eeg_vhdr_path_1804, preload = True)\n",
      "/var/folders/_t/wzqtw10969z1swmc_n6s3p700000gp/T/ipykernel_12783/2664388218.py:15: RuntimeWarning: No coordinate information found for channels ['ECG']. Setting channel types to misc. To avoid this warning, set channel types explicitly.\n",
      "  eeg_raw_1818 = mne.io.read_raw_brainvision(eeg_vhdr_path_1818, preload = True)\n",
      "/var/folders/_t/wzqtw10969z1swmc_n6s3p700000gp/T/ipykernel_12783/2664388218.py:15: RuntimeWarning: Not setting position of 1 misc channel found in montage:\n",
      "['ECG']\n",
      "Consider setting the channel types to be of EEG/sEEG/ECoG/DBS/fNIRS using inst.set_channel_types before calling inst.set_montage, or omit these channels when creating your montage.\n",
      "  eeg_raw_1818 = mne.io.read_raw_brainvision(eeg_vhdr_path_1818, preload = True)\n"
     ]
    },
    {
     "name": "stdout",
     "output_type": "stream",
     "text": [
      "Extracting parameters from /Users/terekhova/Desktop/EEG-BOLD-Decoding/intermittent/interm/sub-101472/ses-1804/eeg/sub-101472_ses-1804_task-socword_run-01_eegMRbvCBbviiR250.vhdr...\n",
      "Setting channel info structure...\n",
      "Reading 0 ... 138064  =      0.000 ...   552.256 secs...\n",
      "Extracting parameters from /Users/terekhova/Desktop/EEG-BOLD-Decoding/intermittent/interm/sub-101472/ses-1818/eeg/sub-101472_ses-1818_task-socword_run-01_eegMRbvCBbviiR250.vhdr...\n",
      "Setting channel info structure...\n",
      "Reading 0 ... 138045  =      0.000 ...   552.180 secs...\n"
     ]
    },
    {
     "name": "stderr",
     "output_type": "stream",
     "text": [
      "/var/folders/_t/wzqtw10969z1swmc_n6s3p700000gp/T/ipykernel_12783/2664388218.py:14: RuntimeWarning: No coordinate information found for channels ['ECG']. Setting channel types to misc. To avoid this warning, set channel types explicitly.\n",
      "  eeg_raw_1804 = mne.io.read_raw_brainvision(eeg_vhdr_path_1804, preload = True)\n",
      "/var/folders/_t/wzqtw10969z1swmc_n6s3p700000gp/T/ipykernel_12783/2664388218.py:14: RuntimeWarning: Not setting position of 1 misc channel found in montage:\n",
      "['ECG']\n",
      "Consider setting the channel types to be of EEG/sEEG/ECoG/DBS/fNIRS using inst.set_channel_types before calling inst.set_montage, or omit these channels when creating your montage.\n",
      "  eeg_raw_1804 = mne.io.read_raw_brainvision(eeg_vhdr_path_1804, preload = True)\n",
      "/var/folders/_t/wzqtw10969z1swmc_n6s3p700000gp/T/ipykernel_12783/2664388218.py:15: RuntimeWarning: No coordinate information found for channels ['ECG']. Setting channel types to misc. To avoid this warning, set channel types explicitly.\n",
      "  eeg_raw_1818 = mne.io.read_raw_brainvision(eeg_vhdr_path_1818, preload = True)\n",
      "/var/folders/_t/wzqtw10969z1swmc_n6s3p700000gp/T/ipykernel_12783/2664388218.py:15: RuntimeWarning: Not setting position of 1 misc channel found in montage:\n",
      "['ECG']\n",
      "Consider setting the channel types to be of EEG/sEEG/ECoG/DBS/fNIRS using inst.set_channel_types before calling inst.set_montage, or omit these channels when creating your montage.\n",
      "  eeg_raw_1818 = mne.io.read_raw_brainvision(eeg_vhdr_path_1818, preload = True)\n"
     ]
    },
    {
     "name": "stdout",
     "output_type": "stream",
     "text": [
      "Extracting parameters from /Users/terekhova/Desktop/EEG-BOLD-Decoding/intermittent/interm/sub-101472/ses-1804/eeg/sub-101472_ses-1804_task-socword_run-02_eegMRbvCBbviiR250.vhdr...\n",
      "Setting channel info structure...\n",
      "Reading 0 ... 138066  =      0.000 ...   552.264 secs...\n",
      "Extracting parameters from /Users/terekhova/Desktop/EEG-BOLD-Decoding/intermittent/interm/sub-101472/ses-1818/eeg/sub-101472_ses-1818_task-socword_run-02_eegMRbvCBbviiR250.vhdr...\n",
      "Setting channel info structure...\n",
      "Reading 0 ... 138053  =      0.000 ...   552.212 secs...\n"
     ]
    },
    {
     "name": "stderr",
     "output_type": "stream",
     "text": [
      "/var/folders/_t/wzqtw10969z1swmc_n6s3p700000gp/T/ipykernel_12783/2664388218.py:14: RuntimeWarning: No coordinate information found for channels ['ECG']. Setting channel types to misc. To avoid this warning, set channel types explicitly.\n",
      "  eeg_raw_1804 = mne.io.read_raw_brainvision(eeg_vhdr_path_1804, preload = True)\n",
      "/var/folders/_t/wzqtw10969z1swmc_n6s3p700000gp/T/ipykernel_12783/2664388218.py:14: RuntimeWarning: Not setting position of 1 misc channel found in montage:\n",
      "['ECG']\n",
      "Consider setting the channel types to be of EEG/sEEG/ECoG/DBS/fNIRS using inst.set_channel_types before calling inst.set_montage, or omit these channels when creating your montage.\n",
      "  eeg_raw_1804 = mne.io.read_raw_brainvision(eeg_vhdr_path_1804, preload = True)\n",
      "/var/folders/_t/wzqtw10969z1swmc_n6s3p700000gp/T/ipykernel_12783/2664388218.py:15: RuntimeWarning: No coordinate information found for channels ['ECG']. Setting channel types to misc. To avoid this warning, set channel types explicitly.\n",
      "  eeg_raw_1818 = mne.io.read_raw_brainvision(eeg_vhdr_path_1818, preload = True)\n",
      "/var/folders/_t/wzqtw10969z1swmc_n6s3p700000gp/T/ipykernel_12783/2664388218.py:15: RuntimeWarning: Not setting position of 1 misc channel found in montage:\n",
      "['ECG']\n",
      "Consider setting the channel types to be of EEG/sEEG/ECoG/DBS/fNIRS using inst.set_channel_types before calling inst.set_montage, or omit these channels when creating your montage.\n",
      "  eeg_raw_1818 = mne.io.read_raw_brainvision(eeg_vhdr_path_1818, preload = True)\n"
     ]
    },
    {
     "name": "stdout",
     "output_type": "stream",
     "text": [
      "Extracting parameters from /Users/terekhova/Desktop/EEG-BOLD-Decoding/intermittent/interm/sub-101472/ses-1804/eeg/sub-101472_ses-1804_task-socword_run-03_eegMRbvCBbviiR250.vhdr...\n",
      "Setting channel info structure...\n",
      "Reading 0 ... 138066  =      0.000 ...   552.264 secs...\n",
      "Extracting parameters from /Users/terekhova/Desktop/EEG-BOLD-Decoding/intermittent/interm/sub-101472/ses-1818/eeg/sub-101472_ses-1818_task-socword_run-03_eegMRbvCBbviiR250.vhdr...\n",
      "Setting channel info structure...\n",
      "Reading 0 ... 138057  =      0.000 ...   552.228 secs...\n"
     ]
    },
    {
     "name": "stderr",
     "output_type": "stream",
     "text": [
      "/var/folders/_t/wzqtw10969z1swmc_n6s3p700000gp/T/ipykernel_12783/2664388218.py:14: RuntimeWarning: No coordinate information found for channels ['ECG']. Setting channel types to misc. To avoid this warning, set channel types explicitly.\n",
      "  eeg_raw_1804 = mne.io.read_raw_brainvision(eeg_vhdr_path_1804, preload = True)\n",
      "/var/folders/_t/wzqtw10969z1swmc_n6s3p700000gp/T/ipykernel_12783/2664388218.py:14: RuntimeWarning: Not setting position of 1 misc channel found in montage:\n",
      "['ECG']\n",
      "Consider setting the channel types to be of EEG/sEEG/ECoG/DBS/fNIRS using inst.set_channel_types before calling inst.set_montage, or omit these channels when creating your montage.\n",
      "  eeg_raw_1804 = mne.io.read_raw_brainvision(eeg_vhdr_path_1804, preload = True)\n",
      "/var/folders/_t/wzqtw10969z1swmc_n6s3p700000gp/T/ipykernel_12783/2664388218.py:15: RuntimeWarning: No coordinate information found for channels ['ECG']. Setting channel types to misc. To avoid this warning, set channel types explicitly.\n",
      "  eeg_raw_1818 = mne.io.read_raw_brainvision(eeg_vhdr_path_1818, preload = True)\n",
      "/var/folders/_t/wzqtw10969z1swmc_n6s3p700000gp/T/ipykernel_12783/2664388218.py:15: RuntimeWarning: Not setting position of 1 misc channel found in montage:\n",
      "['ECG']\n",
      "Consider setting the channel types to be of EEG/sEEG/ECoG/DBS/fNIRS using inst.set_channel_types before calling inst.set_montage, or omit these channels when creating your montage.\n",
      "  eeg_raw_1818 = mne.io.read_raw_brainvision(eeg_vhdr_path_1818, preload = True)\n"
     ]
    },
    {
     "name": "stdout",
     "output_type": "stream",
     "text": [
      "Extracting parameters from /Users/terekhova/Desktop/EEG-BOLD-Decoding/intermittent/interm/sub-101472/ses-1804/eeg/sub-101472_ses-1804_task-socword_run-04_eegMRbvCBbviiR250.vhdr...\n",
      "Setting channel info structure...\n",
      "Reading 0 ... 138056  =      0.000 ...   552.224 secs...\n",
      "Extracting parameters from /Users/terekhova/Desktop/EEG-BOLD-Decoding/intermittent/interm/sub-101472/ses-1818/eeg/sub-101472_ses-1818_task-socword_run-04_eegMRbvCBbviiR250.vhdr...\n",
      "Setting channel info structure...\n",
      "Reading 0 ... 138058  =      0.000 ...   552.232 secs...\n"
     ]
    },
    {
     "name": "stderr",
     "output_type": "stream",
     "text": [
      "/var/folders/_t/wzqtw10969z1swmc_n6s3p700000gp/T/ipykernel_12783/2664388218.py:14: RuntimeWarning: No coordinate information found for channels ['ECG']. Setting channel types to misc. To avoid this warning, set channel types explicitly.\n",
      "  eeg_raw_1804 = mne.io.read_raw_brainvision(eeg_vhdr_path_1804, preload = True)\n",
      "/var/folders/_t/wzqtw10969z1swmc_n6s3p700000gp/T/ipykernel_12783/2664388218.py:14: RuntimeWarning: Not setting position of 1 misc channel found in montage:\n",
      "['ECG']\n",
      "Consider setting the channel types to be of EEG/sEEG/ECoG/DBS/fNIRS using inst.set_channel_types before calling inst.set_montage, or omit these channels when creating your montage.\n",
      "  eeg_raw_1804 = mne.io.read_raw_brainvision(eeg_vhdr_path_1804, preload = True)\n",
      "/var/folders/_t/wzqtw10969z1swmc_n6s3p700000gp/T/ipykernel_12783/2664388218.py:15: RuntimeWarning: No coordinate information found for channels ['ECG']. Setting channel types to misc. To avoid this warning, set channel types explicitly.\n",
      "  eeg_raw_1818 = mne.io.read_raw_brainvision(eeg_vhdr_path_1818, preload = True)\n",
      "/var/folders/_t/wzqtw10969z1swmc_n6s3p700000gp/T/ipykernel_12783/2664388218.py:15: RuntimeWarning: Not setting position of 1 misc channel found in montage:\n",
      "['ECG']\n",
      "Consider setting the channel types to be of EEG/sEEG/ECoG/DBS/fNIRS using inst.set_channel_types before calling inst.set_montage, or omit these channels when creating your montage.\n",
      "  eeg_raw_1818 = mne.io.read_raw_brainvision(eeg_vhdr_path_1818, preload = True)\n"
     ]
    },
    {
     "name": "stdout",
     "output_type": "stream",
     "text": [
      "Extracting parameters from /Users/terekhova/Desktop/EEG-BOLD-Decoding/intermittent/interm/sub-101472/ses-1804/eeg/sub-101472_ses-1804_task-socword_run-05_eegMRbvCBbviiR250.vhdr...\n",
      "Setting channel info structure...\n",
      "Reading 0 ... 138058  =      0.000 ...   552.232 secs...\n",
      "Extracting parameters from /Users/terekhova/Desktop/EEG-BOLD-Decoding/intermittent/interm/sub-101472/ses-1818/eeg/sub-101472_ses-1818_task-socword_run-05_eegMRbvCBbviiR250.vhdr...\n",
      "Setting channel info structure...\n",
      "Reading 0 ... 138057  =      0.000 ...   552.228 secs...\n"
     ]
    },
    {
     "name": "stderr",
     "output_type": "stream",
     "text": [
      "/var/folders/_t/wzqtw10969z1swmc_n6s3p700000gp/T/ipykernel_12783/2664388218.py:14: RuntimeWarning: No coordinate information found for channels ['ECG']. Setting channel types to misc. To avoid this warning, set channel types explicitly.\n",
      "  eeg_raw_1804 = mne.io.read_raw_brainvision(eeg_vhdr_path_1804, preload = True)\n",
      "/var/folders/_t/wzqtw10969z1swmc_n6s3p700000gp/T/ipykernel_12783/2664388218.py:14: RuntimeWarning: Not setting position of 1 misc channel found in montage:\n",
      "['ECG']\n",
      "Consider setting the channel types to be of EEG/sEEG/ECoG/DBS/fNIRS using inst.set_channel_types before calling inst.set_montage, or omit these channels when creating your montage.\n",
      "  eeg_raw_1804 = mne.io.read_raw_brainvision(eeg_vhdr_path_1804, preload = True)\n",
      "/var/folders/_t/wzqtw10969z1swmc_n6s3p700000gp/T/ipykernel_12783/2664388218.py:15: RuntimeWarning: No coordinate information found for channels ['ECG']. Setting channel types to misc. To avoid this warning, set channel types explicitly.\n",
      "  eeg_raw_1818 = mne.io.read_raw_brainvision(eeg_vhdr_path_1818, preload = True)\n",
      "/var/folders/_t/wzqtw10969z1swmc_n6s3p700000gp/T/ipykernel_12783/2664388218.py:15: RuntimeWarning: Not setting position of 1 misc channel found in montage:\n",
      "['ECG']\n",
      "Consider setting the channel types to be of EEG/sEEG/ECoG/DBS/fNIRS using inst.set_channel_types before calling inst.set_montage, or omit these channels when creating your montage.\n",
      "  eeg_raw_1818 = mne.io.read_raw_brainvision(eeg_vhdr_path_1818, preload = True)\n"
     ]
    },
    {
     "name": "stdout",
     "output_type": "stream",
     "text": [
      "Extracting parameters from /Users/terekhova/Desktop/EEG-BOLD-Decoding/intermittent/interm/sub-101472/ses-1804/eeg/sub-101472_ses-1804_task-socword_run-06_eegMRbvCBbviiR250.vhdr...\n",
      "Setting channel info structure...\n",
      "Reading 0 ... 138024  =      0.000 ...   552.096 secs...\n",
      "Extracting parameters from /Users/terekhova/Desktop/EEG-BOLD-Decoding/intermittent/interm/sub-101472/ses-1818/eeg/sub-101472_ses-1818_task-socword_run-06_eegMRbvCBbviiR250.vhdr...\n",
      "Setting channel info structure...\n",
      "Reading 0 ... 138056  =      0.000 ...   552.224 secs...\n"
     ]
    },
    {
     "name": "stderr",
     "output_type": "stream",
     "text": [
      "/var/folders/_t/wzqtw10969z1swmc_n6s3p700000gp/T/ipykernel_12783/2664388218.py:14: RuntimeWarning: No coordinate information found for channels ['ECG']. Setting channel types to misc. To avoid this warning, set channel types explicitly.\n",
      "  eeg_raw_1804 = mne.io.read_raw_brainvision(eeg_vhdr_path_1804, preload = True)\n",
      "/var/folders/_t/wzqtw10969z1swmc_n6s3p700000gp/T/ipykernel_12783/2664388218.py:14: RuntimeWarning: Not setting position of 1 misc channel found in montage:\n",
      "['ECG']\n",
      "Consider setting the channel types to be of EEG/sEEG/ECoG/DBS/fNIRS using inst.set_channel_types before calling inst.set_montage, or omit these channels when creating your montage.\n",
      "  eeg_raw_1804 = mne.io.read_raw_brainvision(eeg_vhdr_path_1804, preload = True)\n",
      "/var/folders/_t/wzqtw10969z1swmc_n6s3p700000gp/T/ipykernel_12783/2664388218.py:15: RuntimeWarning: No coordinate information found for channels ['ECG']. Setting channel types to misc. To avoid this warning, set channel types explicitly.\n",
      "  eeg_raw_1818 = mne.io.read_raw_brainvision(eeg_vhdr_path_1818, preload = True)\n",
      "/var/folders/_t/wzqtw10969z1swmc_n6s3p700000gp/T/ipykernel_12783/2664388218.py:15: RuntimeWarning: Not setting position of 1 misc channel found in montage:\n",
      "['ECG']\n",
      "Consider setting the channel types to be of EEG/sEEG/ECoG/DBS/fNIRS using inst.set_channel_types before calling inst.set_montage, or omit these channels when creating your montage.\n",
      "  eeg_raw_1818 = mne.io.read_raw_brainvision(eeg_vhdr_path_1818, preload = True)\n"
     ]
    },
    {
     "name": "stdout",
     "output_type": "stream",
     "text": [
      "Extracting parameters from /Users/terekhova/Desktop/EEG-BOLD-Decoding/intermittent/interm/sub-101472/ses-1895/eeg/sub-101472_ses-1895_task-rs_run-01_eegMRbvCBbviiR250.vhdr...\n",
      "Setting channel info structure...\n",
      "Reading 0 ... 138057  =      0.000 ...   552.228 secs...\n"
     ]
    },
    {
     "name": "stderr",
     "output_type": "stream",
     "text": [
      "/var/folders/_t/wzqtw10969z1swmc_n6s3p700000gp/T/ipykernel_12783/2664388218.py:36: RuntimeWarning: No coordinate information found for channels ['ECG']. Setting channel types to misc. To avoid this warning, set channel types explicitly.\n",
      "  eeg_raw_1895 = mne.io.read_raw_brainvision(eeg_vhdr_path_1895, preload = True)\n",
      "/var/folders/_t/wzqtw10969z1swmc_n6s3p700000gp/T/ipykernel_12783/2664388218.py:36: RuntimeWarning: Not setting position of 1 misc channel found in montage:\n",
      "['ECG']\n",
      "Consider setting the channel types to be of EEG/sEEG/ECoG/DBS/fNIRS using inst.set_channel_types before calling inst.set_montage, or omit these channels when creating your montage.\n",
      "  eeg_raw_1895 = mne.io.read_raw_brainvision(eeg_vhdr_path_1895, preload = True)\n"
     ]
    },
    {
     "name": "stdout",
     "output_type": "stream",
     "text": [
      "Extracting parameters from /Users/terekhova/Desktop/EEG-BOLD-Decoding/intermittent/interm/sub-101472/ses-1895/eeg/sub-101472_ses-1895_task-rs_run-02_eegMRbvCBbviiR250.vhdr...\n",
      "Setting channel info structure...\n",
      "Reading 0 ... 138024  =      0.000 ...   552.096 secs...\n"
     ]
    },
    {
     "name": "stderr",
     "output_type": "stream",
     "text": [
      "/var/folders/_t/wzqtw10969z1swmc_n6s3p700000gp/T/ipykernel_12783/2664388218.py:36: RuntimeWarning: No coordinate information found for channels ['ECG']. Setting channel types to misc. To avoid this warning, set channel types explicitly.\n",
      "  eeg_raw_1895 = mne.io.read_raw_brainvision(eeg_vhdr_path_1895, preload = True)\n",
      "/var/folders/_t/wzqtw10969z1swmc_n6s3p700000gp/T/ipykernel_12783/2664388218.py:36: RuntimeWarning: Not setting position of 1 misc channel found in montage:\n",
      "['ECG']\n",
      "Consider setting the channel types to be of EEG/sEEG/ECoG/DBS/fNIRS using inst.set_channel_types before calling inst.set_montage, or omit these channels when creating your montage.\n",
      "  eeg_raw_1895 = mne.io.read_raw_brainvision(eeg_vhdr_path_1895, preload = True)\n"
     ]
    },
    {
     "name": "stdout",
     "output_type": "stream",
     "text": [
      "Extracting parameters from /Users/terekhova/Desktop/EEG-BOLD-Decoding/intermittent/interm/sub-101472/ses-1895/eeg/sub-101472_ses-1895_task-socword_run-01_eegMRbvCBbviiR250.vhdr...\n",
      "Setting channel info structure...\n",
      "Reading 0 ... 138065  =      0.000 ...   552.260 secs...\n"
     ]
    },
    {
     "name": "stderr",
     "output_type": "stream",
     "text": [
      "/var/folders/_t/wzqtw10969z1swmc_n6s3p700000gp/T/ipykernel_12783/2664388218.py:36: RuntimeWarning: No coordinate information found for channels ['ECG']. Setting channel types to misc. To avoid this warning, set channel types explicitly.\n",
      "  eeg_raw_1895 = mne.io.read_raw_brainvision(eeg_vhdr_path_1895, preload = True)\n",
      "/var/folders/_t/wzqtw10969z1swmc_n6s3p700000gp/T/ipykernel_12783/2664388218.py:36: RuntimeWarning: Not setting position of 1 misc channel found in montage:\n",
      "['ECG']\n",
      "Consider setting the channel types to be of EEG/sEEG/ECoG/DBS/fNIRS using inst.set_channel_types before calling inst.set_montage, or omit these channels when creating your montage.\n",
      "  eeg_raw_1895 = mne.io.read_raw_brainvision(eeg_vhdr_path_1895, preload = True)\n"
     ]
    },
    {
     "name": "stdout",
     "output_type": "stream",
     "text": [
      "Extracting parameters from /Users/terekhova/Desktop/EEG-BOLD-Decoding/intermittent/interm/sub-101472/ses-1895/eeg/sub-101472_ses-1895_task-socword_run-02_eegMRbvCBbviiR250.vhdr...\n",
      "Setting channel info structure...\n",
      "Reading 0 ... 138057  =      0.000 ...   552.228 secs...\n"
     ]
    },
    {
     "name": "stderr",
     "output_type": "stream",
     "text": [
      "/var/folders/_t/wzqtw10969z1swmc_n6s3p700000gp/T/ipykernel_12783/2664388218.py:36: RuntimeWarning: No coordinate information found for channels ['ECG']. Setting channel types to misc. To avoid this warning, set channel types explicitly.\n",
      "  eeg_raw_1895 = mne.io.read_raw_brainvision(eeg_vhdr_path_1895, preload = True)\n",
      "/var/folders/_t/wzqtw10969z1swmc_n6s3p700000gp/T/ipykernel_12783/2664388218.py:36: RuntimeWarning: Not setting position of 1 misc channel found in montage:\n",
      "['ECG']\n",
      "Consider setting the channel types to be of EEG/sEEG/ECoG/DBS/fNIRS using inst.set_channel_types before calling inst.set_montage, or omit these channels when creating your montage.\n",
      "  eeg_raw_1895 = mne.io.read_raw_brainvision(eeg_vhdr_path_1895, preload = True)\n"
     ]
    },
    {
     "name": "stdout",
     "output_type": "stream",
     "text": [
      "Extracting parameters from /Users/terekhova/Desktop/EEG-BOLD-Decoding/intermittent/interm/sub-101472/ses-1895/eeg/sub-101472_ses-1895_task-socword_run-03_eegMRbvCBbviiR250.vhdr...\n",
      "Setting channel info structure...\n",
      "Reading 0 ... 138024  =      0.000 ...   552.096 secs...\n"
     ]
    },
    {
     "name": "stderr",
     "output_type": "stream",
     "text": [
      "/var/folders/_t/wzqtw10969z1swmc_n6s3p700000gp/T/ipykernel_12783/2664388218.py:36: RuntimeWarning: No coordinate information found for channels ['ECG']. Setting channel types to misc. To avoid this warning, set channel types explicitly.\n",
      "  eeg_raw_1895 = mne.io.read_raw_brainvision(eeg_vhdr_path_1895, preload = True)\n",
      "/var/folders/_t/wzqtw10969z1swmc_n6s3p700000gp/T/ipykernel_12783/2664388218.py:36: RuntimeWarning: Not setting position of 1 misc channel found in montage:\n",
      "['ECG']\n",
      "Consider setting the channel types to be of EEG/sEEG/ECoG/DBS/fNIRS using inst.set_channel_types before calling inst.set_montage, or omit these channels when creating your montage.\n",
      "  eeg_raw_1895 = mne.io.read_raw_brainvision(eeg_vhdr_path_1895, preload = True)\n"
     ]
    }
   ],
   "source": [
    "root = '/Users/terekhova/Desktop/EEG-BOLD-Decoding/intermittent/interm/sub-101472'\n",
    "sessions = ['1804', '1818', '1895']\n",
    "channels_dict_1804= {}\n",
    "channels_dict_1818= {}\n",
    "channels_dict_1895= {}\n",
    "\n",
    "for task, run  in RUNS: \n",
    "    filename_1804= f'sub-101472_ses-{sessions[0]}_task-{task}_run-{run}_eegMRbvCBbviiR250.vhdr'\n",
    "    filename_1818= f'sub-101472_ses-{sessions[1]}_task-{task}_run-{run}_eegMRbvCBbviiR250.vhdr'\n",
    "\n",
    "    eeg_vhdr_path_1804 = os.path.join(root, f'ses-{sessions[0]}', 'eeg', filename_1804)\n",
    "    eeg_vhdr_path_1818 = os.path.join(root, f'ses-{sessions[1]}', 'eeg', filename_1818)\n",
    "\n",
    "    eeg_raw_1804 = mne.io.read_raw_brainvision(eeg_vhdr_path_1804, preload = True)\n",
    "    eeg_raw_1818 = mne.io.read_raw_brainvision(eeg_vhdr_path_1818, preload = True)\n",
    "\n",
    "    df_eeg_1804 = eeg_raw_1804.to_data_frame()\n",
    "    df_eeg_1818 = eeg_raw_1818.to_data_frame()\n",
    "\n",
    "    channels_dict_1804[(task, run)] = df_eeg_1804.columns\n",
    "    channels_dict_1818[(task, run)] = df_eeg_1818.columns\n",
    "\n",
    "\n",
    "RUNS_1895 = [\n",
    "    ('rs', '01'),\n",
    "    ('rs', '02'),\n",
    "    ('socword', '01'), # FAULTY FILE in eeg ses-1804 and ses-1895\n",
    "    ('socword', '02'),\n",
    "    ('socword', '03'),\n",
    "    ]\n",
    "for task, run  in RUNS_1895: \n",
    "    filename_1895= f'sub-101472_ses-{sessions[2]}_task-{task}_run-{run}_eegMRbvCBbviiR250.vhdr'\n",
    "\n",
    "    eeg_vhdr_path_1895 = os.path.join(root, f'ses-{sessions[2]}', 'eeg', filename_1895)\n",
    "\n",
    "    eeg_raw_1895 = mne.io.read_raw_brainvision(eeg_vhdr_path_1895, preload = True)\n",
    "\n",
    "    df_eeg_1895 = eeg_raw_1895.to_data_frame()\n",
    "\n",
    "    channels_dict_1895[(task, run)] = df_eeg_1895.columns\n",
    "\n",
    "\n",
    "    "
   ]
  },
  {
   "cell_type": "code",
   "execution_count": 54,
   "metadata": {},
   "outputs": [],
   "source": [
    "## TEST INDIVIDUAL FUNCTIONS \n",
    "# root = '/Users/terekhova/Desktop/EEG-BOLD-Decoding/intermittent/interm/sub-101472'\n",
    "# eeg_channels = None\n",
    "# sampling_rates_ratio = 500\n",
    "# leeway = 0.001\n",
    "# filename = f'sub-101472_ses-1818_task-socword_run-06_eegMRbvCBbviiR250.vhdr'\n",
    "# eeg_vhdr_path = os.path.join(root, f'ses-1818', 'eeg', filename)\n",
    "# eeg_raw = mne.io.read_raw_brainvision(eeg_vhdr_path, preload = True)\n",
    "\n",
    "# events, event_ids = mne.events_from_annotations(eeg_raw)\n",
    "# events_dict_cut = {'Scanner/Scan Start': event_ids['Scanner/Scan Start']}  # use only Scan Start event\n",
    "\n",
    "\n",
    "\n",
    "# try:\n",
    "#     scan_key = 'Scanner/Scan Start'\n",
    "#     segment_scans = events[events[:, -1] == event_ids[scan_key]]\n",
    "# except: \n",
    "#     scan_key = 'Stimulus/Scan Start'\n",
    "#     segment_scans = events[events[:, -1] == event_ids[scan_key]] \n",
    "#     print(f'ERROR: FAULTY EVENT NAME. PATH:{eeg_vhdr_path}')\n",
    "\n",
    "\n",
    "# unique_scan_diffs, counts_diffs = np.unique(np.diff(segment_scans[:, 0]), return_counts=True)\n",
    "\n",
    "# first_segment = segment_scans[0, 0] / EEG_SAMPLING_RATE\n",
    "# cropped_eeg = eeg_raw.crop(tmin=first_segment)\n",
    "\n",
    "# df_eeg = eeg_raw.to_data_frame()\n",
    "# cropped_df_eeg = cropped_eeg.to_data_frame()\n",
    "\n",
    "# if eeg_channels is None:\n",
    "#     eeg_channels = [column for column in df_eeg.columns if column != 'time']\n",
    "\n",
    "# eeg_times = df_eeg['time']\n",
    "# cropped_eeg_times = cropped_df_eeg['time']\n",
    "\n",
    "# df_eeg = df_eeg[eeg_channels]\n",
    "\n",
    "\n",
    "# fmri_array, fmri_times, rois, fmri_path, df_fmri = load_fmri_data(\n",
    "#         root=root, run='01', ses='1818', task='rs', rois = None, roi_folder='roi'\n",
    "#     )\n",
    "\n",
    "\n",
    "\n",
    "\n",
    "\n",
    "# n_eeg_samples = df_fmri.shape[0] * sampling_rates_ratio\n",
    "# df_eeg_new = df_eeg.iloc[:n_eeg_samples]\n",
    "# eeg_array = df_eeg_new.to_numpy().T\n",
    "\n",
    "# epochs = mne.Epochs(\n",
    "#         cropped_eeg,\n",
    "#         events = segment_scans, \n",
    "#         event_id =events_dict_cut, \n",
    "#         tmin = 6.5,\n",
    "#         tmax = 11.5-1/EEG_SAMPLING_RATE, \n",
    "#         baseline = None, \n",
    "#         preload = True\n",
    "#     )\n",
    "# print(epochs.drop_log)\n",
    "\n",
    "# epochs_df = epochs.to_data_frame()\n",
    "# #epochs_df = epochs_df[:-1]\n",
    "# segment_scans = segment_scans[:-1]\n",
    "\n",
    "# #epochs = epochs.copy().filter(1, 70)\n",
    "# #epochs = epochs.crop(tmin=6 + leeway, tmax=12 - leeway, include_tmax=False)\n"
   ]
  },
  {
   "cell_type": "code",
   "execution_count": 55,
   "metadata": {},
   "outputs": [],
   "source": [
    "# # assert for tsart integer \n",
    "# all([i.is_integer() for i in df_fmri[' Tstart']])\n",
    "# fmri_times = fmri_times.astype(int)\n",
    "# fmri_times"
   ]
  },
  {
   "cell_type": "code",
   "execution_count": 56,
   "metadata": {},
   "outputs": [],
   "source": [
    "def split_single_dataset(eeg: np.ndarray, fmri: np.ndarray, task: str): \n",
    "    \n",
    "    # зафиксировать by % test and val, put the rest in train\n",
    "    \n",
    "    eeg_train, eeg_test, fmri_train, fmri_test = train_test_split(\n",
    "        eeg, fmri, test_size=0.25, shuffle=False\n",
    "        )\n",
    "\n",
    "    eeg_train, eeg_val, fmri_train, fmri_val = train_test_split(\n",
    "        eeg_train, fmri_train, test_size=0.2, shuffle=False\n",
    "        ) \n",
    "\n",
    "    train_data = {'eeg': eeg_train,\n",
    "                  'fmri': fmri_train}\n",
    "\n",
    "    val_data = {'eeg': eeg_val,\n",
    "                'fmri': fmri_val}\n",
    "\n",
    "    test_data = {'eeg': eeg_test,\n",
    "                 'fmri': fmri_test}\n",
    "\n",
    "    return train_data, val_data, test_data\n",
    "\n",
    "def split_datasets(datasets: dict, separate_global_trend:bool):\n",
    "    train_datasets = {}\n",
    "    validation_datasets = {}\n",
    "    test_datasets = {}\n",
    "\n",
    "    for set_path, single_dataset in datasets.items():\n",
    "\n",
    "        if separate_global_trend: \n",
    "            train_data, val_data, test_data = split_single_dataset(\n",
    "            eeg=single_dataset['eeg'], fmri=single_dataset['fmri_reshape'],\n",
    "            task=single_dataset['task']\n",
    "        )\n",
    "        else: \n",
    "            train_data, val_data, test_data = split_single_dataset(\n",
    "                eeg=single_dataset['eeg'], fmri=single_dataset['fmri'],\n",
    "                task=single_dataset['task']\n",
    "            )\n",
    "\n",
    "        train_datasets[set_path] = train_data\n",
    "\n",
    "        if val_data is not None:\n",
    "            validation_datasets[set_path] = val_data\n",
    "\n",
    "        if test_data is not None:\n",
    "            test_datasets[set_path] = test_data\n",
    "\n",
    "    return train_datasets, validation_datasets, test_datasets\n",
    "\n",
    "\n"
   ]
  },
  {
   "cell_type": "code",
   "execution_count": 57,
   "metadata": {},
   "outputs": [],
   "source": [
    "train_datasets, validation_datasets, test_datasets = split_datasets(datasets, separate_global_trend=separate_global_trend)"
   ]
  },
  {
   "cell_type": "code",
   "execution_count": 58,
   "metadata": {},
   "outputs": [
    {
     "data": {
      "text/plain": [
       "(7, 127, 1250)"
      ]
     },
     "execution_count": 58,
     "metadata": {},
     "output_type": "execute_result"
    }
   ],
   "source": [
    "validation_datasets[('/Users/terekhova/Desktop/EEG-BOLD-Decoding/intermittent/interm/sub-101472/ses-1818/eeg/sub-101472_ses-1818_task-rs_run-01_eegMRbvCBbviiR250.vhdr', '/Users/terekhova/Desktop/EEG-BOLD-Decoding/intermittent/interm/sub-101472/ses-1818/roi/sub-101472_ses-1818_task-rs_run-01.csv')]['eeg'].shape"
   ]
  },
  {
   "cell_type": "code",
   "execution_count": 59,
   "metadata": {},
   "outputs": [
    {
     "data": {
      "text/plain": [
       "(7, 23, 3)"
      ]
     },
     "execution_count": 59,
     "metadata": {},
     "output_type": "execute_result"
    }
   ],
   "source": [
    "validation_datasets[('/Users/terekhova/Desktop/EEG-BOLD-Decoding/intermittent/interm/sub-101472/ses-1818/eeg/sub-101472_ses-1818_task-rs_run-01_eegMRbvCBbviiR250.vhdr', '/Users/terekhova/Desktop/EEG-BOLD-Decoding/intermittent/interm/sub-101472/ses-1818/roi/sub-101472_ses-1818_task-rs_run-01.csv')]['fmri'].shape"
   ]
  },
  {
   "cell_type": "code",
   "execution_count": 60,
   "metadata": {},
   "outputs": [],
   "source": [
    "# initialise for each run and then concatDataset <- rewrite from build_full_dataset \n",
    "class EEGFMRIDataset(Dataset):\n",
    "    def __init__(self, eeg, fmri, data_path, eeg_channels, fmri_rois, mean=False ):\n",
    "        self.data_path = data_path\n",
    "        self.eeg = torch.from_numpy(eeg).float()\n",
    "        if mean: \n",
    "            # keepdims so that the last dimension will be 1 \n",
    "            fmri = np.mean(fmri, axis = -1, keepdims=True)\n",
    "        self.fmri = torch.from_numpy(fmri).float()\n",
    "\n",
    "        self.eeg_channels = list(eeg_channels)\n",
    "        self.fmri_rois = list(fmri_rois)\n",
    "\n",
    "        assert self.eeg.size(0) == self.fmri.size(0), (self.eeg.size(), self.fmri.size())\n",
    "\n",
    "    def __getitem__(self, idx):\n",
    "        return self.eeg[idx, ...], self.fmri[idx, ...]\n",
    "\n",
    "    def __len__(self):\n",
    "        return self.eeg.size(0)\n",
    "    \n",
    "    def get_rois(self):\n",
    "        return list(self.fmri_rois)\n",
    "    \n",
    "def build_full_dataset(datasets:dict, fmri_rois:list[str], mean:bool, separate_global_trend:bool):\n",
    "    torch_datasets = []\n",
    "    all_rois = None\n",
    "    for ds_path, dataset in datasets.items():\n",
    "        torch_dataset = EEGFMRIDataset(\n",
    "            eeg=dataset['eeg'], fmri=dataset['fmri'],\n",
    "            eeg_channels=eeg_channels, fmri_rois=fmri_rois,\n",
    "            data_path=ds_path, mean=mean)\n",
    "        torch_rois = torch_dataset.get_rois()\n",
    "        if all_rois is None:\n",
    "            all_rois = list(torch_rois)\n",
    "        else:\n",
    "            assert all_rois == torch_rois, (all_rois, torch_rois)\n",
    "        torch_datasets.append(torch_dataset)\n",
    "    full_dataset = ConcatDataset(torch_datasets)\n",
    "\n",
    "    return full_dataset, all_rois\n"
   ]
  },
  {
   "cell_type": "code",
   "execution_count": 61,
   "metadata": {},
   "outputs": [
    {
     "data": {
      "text/plain": [
       "(45, 127, 1250)"
      ]
     },
     "execution_count": 61,
     "metadata": {},
     "output_type": "execute_result"
    }
   ],
   "source": [
    "datasets[('/Users/terekhova/Desktop/EEG-BOLD-Decoding/intermittent/interm/sub-101472/ses-1818/eeg/sub-101472_ses-1818_task-rs_run-01_eegMRbvCBbviiR250.vhdr',\n",
    "  '/Users/terekhova/Desktop/EEG-BOLD-Decoding/intermittent/interm/sub-101472/ses-1818/roi/sub-101472_ses-1818_task-rs_run-01.csv')]['eeg'].shape"
   ]
  },
  {
   "cell_type": "code",
   "execution_count": null,
   "metadata": {},
   "outputs": [],
   "source": []
  },
  {
   "cell_type": "code",
   "execution_count": 62,
   "metadata": {},
   "outputs": [],
   "source": [
    "torch_datasets = {}\n",
    "all_datasets = {'train': train_datasets, 'validation': validation_datasets, 'test': test_datasets}\n",
    "\n",
    "for split_name in ['train', 'validation', 'test']:\n",
    "\n",
    "    split_dataset, split_rois = build_full_dataset(\n",
    "        datasets=all_datasets[split_name], fmri_rois=rois, mean = True, separate_global_trend=separate_global_trend)\n",
    "\n",
    "    torch_datasets[split_name] = {'dataset': split_dataset, 'rois': split_rois}"
   ]
  },
  {
   "cell_type": "code",
   "execution_count": 63,
   "metadata": {},
   "outputs": [],
   "source": [
    "train_dataset, validation_dataset, test_dataset = torch_datasets['train']['dataset'], torch_datasets['validation']['dataset'], torch_datasets['test']['dataset']\n"
   ]
  },
  {
   "cell_type": "code",
   "execution_count": 64,
   "metadata": {},
   "outputs": [
    {
     "data": {
      "text/plain": [
       "torch.Size([7, 23, 1])"
      ]
     },
     "execution_count": 64,
     "metadata": {},
     "output_type": "execute_result"
    }
   ],
   "source": [
    "validation_dataset.datasets[2].fmri.shape\n"
   ]
  },
  {
   "cell_type": "code",
   "execution_count": null,
   "metadata": {},
   "outputs": [],
   "source": []
  },
  {
   "cell_type": "code",
   "execution_count": 65,
   "metadata": {},
   "outputs": [],
   "source": [
    "model_config = {\"dropout_prob\": 0.25, \"intermediate_channels\": None}\n",
    "scheduler_config = {\"mode\": \"min\", \"factor\": 0.1, \"patience\": 5}"
   ]
  },
  {
   "cell_type": "code",
   "execution_count": null,
   "metadata": {},
   "outputs": [],
   "source": []
  },
  {
   "cell_type": "code",
   "execution_count": null,
   "metadata": {},
   "outputs": [],
   "source": []
  },
  {
   "cell_type": "code",
   "execution_count": 66,
   "metadata": {},
   "outputs": [],
   "source": [
    "# brain_wave_linker_net = BrainWaveLinker(\n",
    "#         nn_parameters=model_config,\n",
    "#         eeg_channel_names=eeg_channels,\n",
    "#         roi_names=rois,\n",
    "#         criterion_name='MSELoss',\n",
    "#         criterion_kwargs={\"dim\": -1, \"eps\": 1e-06},\n",
    "#         optimizer_name='Adam',\n",
    "#         optimizer_kwargs={\"lr\": 0.001,\"weight_decay\": 0.001},\n",
    "#         scheduler_kwargs=scheduler_config\n",
    "#     )"
   ]
  },
  {
   "cell_type": "code",
   "execution_count": null,
   "metadata": {},
   "outputs": [],
   "source": []
  },
  {
   "cell_type": "code",
   "execution_count": 67,
   "metadata": {},
   "outputs": [],
   "source": [
    "def build_dataloader(dataset: torch.utils.data.Dataset, sampler_parameters: Optional[dict],\n",
    "                     dataloader_parameters: dict):\n",
    "\n",
    "    samplers = {\n",
    "        'RandomSampler': RandomSampler\n",
    "    }\n",
    "\n",
    "    if sampler_parameters is not None:\n",
    "        sampler = samplers[sampler_parameters['name']](dataset, **sampler_parameters['parameters'])\n",
    "    else:\n",
    "        sampler = None\n",
    "\n",
    "    dataloader = torch.utils.data.DataLoader(dataset, sampler=sampler, **dataloader_parameters)\n",
    "\n",
    "    return dataloader\n"
   ]
  },
  {
   "cell_type": "code",
   "execution_count": null,
   "metadata": {},
   "outputs": [],
   "source": []
  },
  {
   "cell_type": "code",
   "execution_count": 68,
   "metadata": {},
   "outputs": [],
   "source": [
    "dataloader_configs = {\"train\": {\"batch_size\": 128,\"drop_last\": False,\"num_workers\": 0},  \"validation\": {\n",
    "        \"batch_size\": 128,\n",
    "        \"drop_last\": False,\n",
    "        \"num_workers\": 0\n",
    "    },\n",
    "    \"test\": {\n",
    "        \"batch_size\": 128,\n",
    "        \"drop_last\": False,\n",
    "        \"num_workers\": 0\n",
    "    }\n",
    "}\n",
    "\n",
    "sampler_configs = {\n",
    "        \"train\": None,\n",
    "        \"validation\": None\n",
    "    }"
   ]
  },
  {
   "cell_type": "code",
   "execution_count": 69,
   "metadata": {},
   "outputs": [
    {
     "data": {
      "text/plain": [
       "torch.Size([26, 23, 1])"
      ]
     },
     "execution_count": 69,
     "metadata": {},
     "output_type": "execute_result"
    }
   ],
   "source": [
    "train_dataset.datasets[0].fmri.shape"
   ]
  },
  {
   "cell_type": "code",
   "execution_count": 70,
   "metadata": {},
   "outputs": [],
   "source": [
    "samplers = {'RandomSampler': RandomSampler}\n",
    "\n",
    "train_loader = torch.utils.data.DataLoader(train_dataset, sampler=None, batch_size = 128, drop_last=False, num_workers=0)\n",
    "val_loader = torch.utils.data.DataLoader(validation_dataset, sampler=None, batch_size = 128, drop_last=False, num_workers=0)\n",
    "test_loader = torch.utils.data.DataLoader(train_dataset, sampler=None, batch_size = 128, drop_last=False, num_workers=0)\n",
    "\n",
    "\n",
    "\n"
   ]
  },
  {
   "cell_type": "code",
   "execution_count": 71,
   "metadata": {},
   "outputs": [],
   "source": [
    "# train_loader = build_dataloader(dataset=train_dataset, sampler_parameters=sampler_configs['train'],\n",
    "#                                     dataloader_parameters=dataloader_configs['train'])\n",
    "# val_loader = build_dataloader(dataset=validation_dataset, sampler_parameters=sampler_configs['validation'],\n",
    "#                                   dataloader_parameters=dataloader_configs['validation'])\n",
    "# test_loader = build_dataloader(dataset=test_dataset, sampler_parameters=None,\n",
    "#                                    dataloader_parameters=dataloader_configs['test'])"
   ]
  },
  {
   "cell_type": "code",
   "execution_count": 72,
   "metadata": {},
   "outputs": [
    {
     "name": "stdout",
     "output_type": "stream",
     "text": [
      "train_loader 4\n",
      "val_loader 1\n",
      "test_loader 4\n"
     ]
    }
   ],
   "source": [
    "print('train_loader', len(train_loader))\n",
    "print('val_loader', len(val_loader))\n",
    "print('test_loader', len(test_loader))"
   ]
  },
  {
   "cell_type": "code",
   "execution_count": 73,
   "metadata": {},
   "outputs": [],
   "source": [
    "trainer_config= {\n",
    "        \"early_stopping\": {\n",
    "            \"monitor\": \"val_loss\",\n",
    "            \"mode\": \"min\",\n",
    "            \"patience\": 20\n",
    "        },\n",
    "        \"checkpointing\": {\n",
    "            \"monitor\": \"val_loss\",\n",
    "            \"mode\": \"min\",\n",
    "            \"save_top_k\": 1\n",
    "        },\n",
    "        \"kwargs\": {\n",
    "            \"max_epochs\": 500,\n",
    "            \"log_every_n_steps\": 1\n",
    "        }\n",
    "    }"
   ]
  },
  {
   "cell_type": "code",
   "execution_count": 74,
   "metadata": {},
   "outputs": [
    {
     "data": {
      "text/plain": [
       "torch.Size([26, 23, 1])"
      ]
     },
     "execution_count": 74,
     "metadata": {},
     "output_type": "execute_result"
    }
   ],
   "source": [
    "train_dataset.datasets[1].fmri.shape"
   ]
  },
  {
   "cell_type": "code",
   "execution_count": 75,
   "metadata": {},
   "outputs": [],
   "source": [
    "# for i, (inputs, targets) in enumerate (train_loader): \n",
    "#     print(f\"Batch {i}:\")\n",
    "#     print(f\"Inputs shape: {inputs.shape}\")\n",
    "#     print(f\"Targets shape: {targets.shape}\")"
   ]
  },
  {
   "cell_type": "code",
   "execution_count": 76,
   "metadata": {},
   "outputs": [],
   "source": [
    "# for batch in train_loader:\n",
    "#         inputs, targets = batch\n",
    "#         outputs = brain_wave_linker_net(inputs)  \n",
    "#         print(inputs.shape, outputs.shape, targets.shape)"
   ]
  },
  {
   "cell_type": "code",
   "execution_count": 77,
   "metadata": {},
   "outputs": [],
   "source": [
    "# Keep in mind entry and final dimensions \n",
    "# if returning to 1-point prediction, put temporal filter = 10 \n",
    "\n",
    "\n",
    "def build_criterion(criterion_name: str, criterion_kwargs: dict):\n",
    "\n",
    "    if criterion_name == 'MSELoss':\n",
    "        criterion = nn.MSELoss(**criterion_kwargs)\n",
    "    elif criterion_name == 'L1Loss':\n",
    "        criterion = nn.MSELoss(**criterion_kwargs)\n",
    "    else:\n",
    "        raise NotImplementedError\n",
    "    return criterion\n",
    "\n",
    "class BrainWaveLinker(nn.Module):\n",
    "    \n",
    "    def __init__(\n",
    "            self, in_channels: int, out_channels: int, dropout_prob: float = 0.25,\n",
    "            intermediate_channels: Optional[int] = None\n",
    "    ):\n",
    "        super().__init__()\n",
    "\n",
    "        if intermediate_channels is None:\n",
    "            intermediate_channels = out_channels\n",
    "\n",
    "        self.spatial_filer = nn.Conv1d(in_channels,  intermediate_channels, kernel_size=1)\n",
    "\n",
    "        self.pyramidal_subsampling = nn.Sequential(\n",
    "            nn.GELU(),\n",
    "            nn.Conv1d(in_channels=intermediate_channels, out_channels=intermediate_channels,\n",
    "                      kernel_size=5, stride=5),\n",
    "            nn.GELU(),\n",
    "            nn.Dropout(dropout_prob),\n",
    "            nn.Conv1d(in_channels=intermediate_channels, out_channels=intermediate_channels,\n",
    "                      kernel_size=5, stride=5),\n",
    "            nn.GELU(),\n",
    "            nn.Dropout(dropout_prob),\n",
    "            nn.Conv1d(in_channels=intermediate_channels, out_channels=intermediate_channels,\n",
    "                      kernel_size=5, stride=5),\n",
    "            nn.GELU(),\n",
    "            nn.Dropout(dropout_prob)\n",
    "        )\n",
    "\n",
    "        self.temporal_filter = nn.Sequential(\n",
    "            nn.Conv1d(in_channels=intermediate_channels, out_channels=out_channels, \n",
    "                      kernel_size = 10)\n",
    "        )\n",
    "        # self.temporal_filter = nn.Conv1d(\n",
    "        #     intermediate_channels, out_channels, kernel_size=8, padding=0\n",
    "        # )\n",
    "\n",
    "    def forward(self, x: torch.Tensor):\n",
    "        out_sf = self.spatial_filer(x)\n",
    "        out_ps = self.pyramidal_subsampling(out_sf)\n",
    "        out = self.temporal_filter(out_ps)\n",
    "        return out\n",
    "\n",
    "\n",
    "class BrainWaveLinkerSystem(L.LightningModule):\n",
    "    \n",
    "    def __init__(self,\n",
    "                 nn_parameters: dict,\n",
    "                 roi_names: list[str], eeg_channel_names: list[str],\n",
    "                 criterion_name: str, criterion_kwargs: dict,\n",
    "                 optimizer_name: str, optimizer_kwargs: dict,\n",
    "                 scheduler_kwargs: dict):\n",
    "        super().__init__()\n",
    "\n",
    "        self.model = BrainWaveLinker(\n",
    "            in_channels=len(eeg_channel_names),\n",
    "            out_channels=len(roi_names),\n",
    "            **nn_parameters\n",
    "        )\n",
    "        self.criterion = build_criterion(criterion_name=criterion_name, criterion_kwargs=criterion_kwargs)\n",
    "        self.eeg_channel_names = list(eeg_channel_names)\n",
    "        self.roi_names = list(roi_names)\n",
    "        self.criterion_name = criterion_name\n",
    "        self.criterion_kwargs = criterion_kwargs\n",
    "        self.optimizer_name = optimizer_name\n",
    "        self.optimizer_kwargs = optimizer_kwargs\n",
    "        self.scheduler_name = 'ReduceLROnPlateau'\n",
    "        self.scheduler_kwargs = scheduler_kwargs\n",
    "\n",
    "\n",
    "    def forward(self, inputs: torch.Tensor):\n",
    "        return self.model(inputs)\n",
    "\n",
    "\n",
    "    def common_step(self, batch: tuple[torch.Tensor], batch_idx: int, mode: str):\n",
    "        inputs, target = batch\n",
    "        output = self(inputs)\n",
    "        loss = self.criterion(output, target)\n",
    " \n",
    "        self.log(f'{mode}_loss', loss, on_step=True, on_epoch=True, prog_bar=True, logger=True)\n",
    "\n",
    "        return loss\n",
    "\n",
    "    def training_step(self, batch: tuple[torch.Tensor], batch_idx: int):\n",
    "        loss = self.common_step(batch=batch,batch_idx=batch_idx,mode='train')\n",
    "        return loss\n",
    "\n",
    "    def validation_step(self, batch: tuple[torch.Tensor], batch_idx: int):\n",
    "        loss = self.common_step(batch=batch,batch_idx=batch_idx,mode='val')\n",
    "        return loss\n",
    "\n",
    "    def test_step(self, batch: tuple[torch.Tensor], batch_idx: int):\n",
    "        loss  = self.common_step(batch=batch,batch_idx=batch_idx,mode='test')\n",
    "        return loss\n",
    "\n",
    "\n",
    "    def configure_optimizers(self):\n",
    "        optimizers = {\n",
    "            'Adam': torch.optim.Adam,\n",
    "            'AdamW': torch.optim.AdamW,\n",
    "            'RMSprop': torch.optim.RMSprop,\n",
    "            'SGD': torch.optim.SGD\n",
    "        }\n",
    "        optimizer = optimizers[self.optimizer_name](self.model.parameters(), **self.optimizer_kwargs)\n",
    "        return {\n",
    "            'optimizer': optimizer,\n",
    "            'lr_scheduler': {\n",
    "                'scheduler': torch.optim.lr_scheduler.ReduceLROnPlateau(optimizer, **self.scheduler_kwargs),\n",
    "                # ReduceLROnPlateau scheduler requires a monitor\n",
    "                'monitor': 'val_loss',\n",
    "                'frequency': 1\n",
    "            },\n",
    "        }\n",
    "def build_dataloader(dataset: torch.utils.data.Dataset, sampler_parameters: Optional[dict],\n",
    "                     dataloader_parameters: dict):\n",
    "\n",
    "    samplers = {\n",
    "        'RandomSampler': RandomSampler\n",
    "    }\n",
    "\n",
    "    if sampler_parameters is not None:\n",
    "        sampler = samplers[sampler_parameters['name']](dataset, **sampler_parameters['parameters'])\n",
    "    else:\n",
    "        sampler = None\n",
    "\n",
    "    dataloader = torch.utils.data.DataLoader(dataset, sampler=sampler, **dataloader_parameters)\n",
    "\n",
    "    return dataloader\n",
    "\n",
    "def run_full_pipeline(trainer_config, brain_wave_linker_net):\n",
    "\n",
    "\n",
    "    callbacks = [ModelCheckpoint(**trainer_config['checkpointing'])]\n",
    "\n",
    "    if trainer_config['early_stopping'] is not None:\n",
    "        callbacks.append(EarlyStopping(monitor=trainer_config['early_stopping']['monitor'],\n",
    "                                       mode=trainer_config['early_stopping']['mode'],\n",
    "                                       patience=trainer_config['early_stopping']['patience']))\n",
    "\n",
    "    \n",
    "    trainer = L.Trainer(callbacks=callbacks,\n",
    "                        **trainer_config['kwargs'])\n",
    "\n",
    "    best_model = None\n",
    "\n",
    "\n",
    "\n",
    "    trainer.fit(model=brain_wave_linker_net, train_dataloaders=train_loader, val_dataloaders=val_loader)\n",
    "    print(trainer.checkpoint_callback)\n",
    "    best_model = trainer.checkpoint_callback.best_model_path  # Assuming this retrieves the best model's state_dict\n",
    "\n",
    "\n",
    "    print(f'Training complete')\n",
    "\n",
    "\n",
    "    \n",
    "\n",
    "    trainer.test(brain_wave_linker_net, dataloaders=test_loader, ckpt_path = best_model)    \n",
    "\n",
    "    # for logging_mode in config['dataframe_logging_modes']:\n",
    "    #     brain_wave_linker_net.log_metrics_tables(mode=logging_mode)\n",
    "\n",
    "    if torch.cuda.is_available():\n",
    "        device = 'cuda'\n",
    "    else:\n",
    "        device = 'cpu'\n",
    "        \n",
    "    # extract_predicted_time_series(\n",
    "    #     model=brain_wave_linker_net.model, ckpt_path=best_model_path, dataset=test_loader.dataset, ds_name='test',\n",
    "    #     device=device\n",
    "    # )\n",
    "\n",
    "\n",
    "    # print_wrapped_text(header_text='MODEL', main_body=brain_wave_linker_net.model)\n",
    "    # print_wrapped_text(header_text='Experiment config', main_body=config)\n",
    "    # print_wrapped_text(header_text='Criterion config', main_body=criterion_config)\n",
    "    # print_wrapped_text(header_text='Optimizer config', main_body=optimizer_config)\n",
    "    # print_wrapped_text(header_text='Scheduler config', main_body=scheduler_config)\n",
    "    # print_wrapped_text(header_text='Trainer config', main_body=trainer_config)\n",
    "    # print_wrapped_text(header_text='wandb config', main_body=wandb_kwargs)\n",
    "    # print_wrapped_text(header_text='Model config', main_body=model_config)\n"
   ]
  },
  {
   "cell_type": "code",
   "execution_count": 78,
   "metadata": {},
   "outputs": [],
   "source": [
    "# def build_dataloader(dataset: torch.utils.data.Dataset, sampler_parameters: Optional[dict],\n",
    "#                      dataloader_parameters: dict):\n",
    "\n",
    "#     samplers = {\n",
    "#         'RandomSampler': RandomSampler\n",
    "#     }\n",
    "\n",
    "#     if sampler_parameters is not None:\n",
    "#         sampler = samplers[sampler_parameters['name']](dataset, **sampler_parameters['parameters'])\n",
    "#     else:\n",
    "#         sampler = None\n",
    "\n",
    "#     dataloader = torch.utils.data.DataLoader(dataset, sampler=sampler, **dataloader_parameters)\n",
    "\n",
    "#     return dataloader\n"
   ]
  },
  {
   "cell_type": "code",
   "execution_count": 79,
   "metadata": {},
   "outputs": [],
   "source": [
    "\n",
    "# def extract_predicted_time_series(model: torch.nn.Module, ckpt_path: str, dataset: torch.utils.data.ConcatDataset,\n",
    "#                                   ds_name: str, device: str):\n",
    "#     # Load checkpoint\n",
    "#     checkpoint = torch.load(ckpt_path, weights_only=True, map_location=device)\n",
    "#     state_dict = {}\n",
    "\n",
    "#     # Original checkpoint for a torch.nn.Module was inside a lightning module, therefore removing additional prefix\n",
    "#     for key, value in checkpoint['state_dict'].items():\n",
    "#         key = key.split('.')\n",
    "#         assert key[0] == 'model'\n",
    "#         new_key = '.'.join(key[1:])\n",
    "#         state_dict[new_key] = value\n",
    "#     model.load_state_dict(state_dict)\n",
    "#     model.eval()\n",
    "\n",
    "#     # Check ROI consistency\n",
    "#     roi_names = None\n",
    "#     for ds in dataset.datasets:\n",
    "#         if roi_names is None:\n",
    "#             roi_names = list(ds.get_rois())\n",
    "#         else:\n",
    "#             assert roi_names == list(ds.get_rois()), (roi_names, ds.get_rois())\n",
    "\n",
    "\n",
    "#     for ds in dataset.datasets:\n",
    "\n",
    "#         eeg, gt_fmri, (eeg_data_path, fmri_data_path) = ds.get_all_data()\n",
    "#         eeg = eeg.unsqueeze(0)  # imitating batch dimension\n",
    "#         eeg.to(device)\n",
    "\n",
    "#         with torch.no_grad():\n",
    "#             pred_fmri = model(eeg)\n",
    "#             assert pred_fmri.size(0) == 1  # remove batch dimension\n",
    "#             pred_fmri = pred_fmri[0, ...]\n",
    "\n",
    "#         pred_fmri = pred_fmri.cpu().numpy()\n",
    "#         gt_fmri = gt_fmri.cpu().numpy()\n",
    "\n",
    "        \n",
    "\n",
    "#         gt_fmri = gt_fmri[:, :-20]\n",
    "\n",
    "#         ds_results = {}\n",
    "\n",
    "#         for roi_idx, roi_name in enumerate(roi_names):\n",
    "#             roi_pred = pred_fmri[roi_idx, :]\n",
    "#             roi_gt = gt_fmri[roi_idx, :]\n",
    "#             ds_results[f'{roi_name}_pred'] = roi_pred\n",
    "#             ds_results[f'{roi_name}_gt'] = roi_gt\n",
    "\n",
    "\n",
    "#         ds_results = pd.DataFrame(ds_results)\n",
    "\n"
   ]
  },
  {
   "cell_type": "code",
   "execution_count": null,
   "metadata": {},
   "outputs": [],
   "source": []
  },
  {
   "cell_type": "code",
   "execution_count": 80,
   "metadata": {},
   "outputs": [],
   "source": [
    "brain_wave_linker_net = BrainWaveLinkerSystem(\n",
    "        nn_parameters=model_config,\n",
    "        eeg_channel_names=eeg_channels,\n",
    "        roi_names=rois,\n",
    "        criterion_name='MSELoss',\n",
    "        criterion_kwargs={},\n",
    "        optimizer_name='Adam',\n",
    "        optimizer_kwargs={\"lr\": 0.001,\"weight_decay\": 0.001},\n",
    "        scheduler_kwargs=scheduler_config)"
   ]
  },
  {
   "cell_type": "code",
   "execution_count": 81,
   "metadata": {},
   "outputs": [
    {
     "data": {
      "text/plain": [
       "__main__.BrainWaveLinkerSystem"
      ]
     },
     "execution_count": 81,
     "metadata": {},
     "output_type": "execute_result"
    }
   ],
   "source": [
    "type(brain_wave_linker_net)"
   ]
  },
  {
   "cell_type": "code",
   "execution_count": 82,
   "metadata": {},
   "outputs": [
    {
     "data": {
      "text/plain": [
       "torch.Size([26, 23, 1])"
      ]
     },
     "execution_count": 82,
     "metadata": {},
     "output_type": "execute_result"
    }
   ],
   "source": [
    "train_dataset.datasets[0].fmri.shape"
   ]
  },
  {
   "cell_type": "code",
   "execution_count": 83,
   "metadata": {},
   "outputs": [
    {
     "name": "stderr",
     "output_type": "stream",
     "text": [
      "GPU available: True (mps), used: True\n",
      "TPU available: False, using: 0 TPU cores\n",
      "HPU available: False, using: 0 HPUs\n",
      "\n",
      "  | Name      | Type            | Params | Mode \n",
      "------------------------------------------------------\n",
      "0 | model     | BrainWaveLinker | 16.3 K | train\n",
      "1 | criterion | MSELoss         | 0      | train\n",
      "------------------------------------------------------\n",
      "16.3 K    Trainable params\n",
      "0         Non-trainable params\n",
      "16.3 K    Total params\n",
      "0.065     Total estimated model params size (MB)\n",
      "16        Modules in train mode\n",
      "0         Modules in eval mode\n"
     ]
    },
    {
     "name": "stdout",
     "output_type": "stream",
     "text": [
      "Sanity Checking: |          | 0/? [00:00<?, ?it/s]"
     ]
    },
    {
     "name": "stderr",
     "output_type": "stream",
     "text": [
      "/Users/terekhova/fsl/lib/python3.12/site-packages/lightning/pytorch/trainer/connectors/data_connector.py:425: The 'val_dataloader' does not have many workers which may be a bottleneck. Consider increasing the value of the `num_workers` argument` to `num_workers=7` in the `DataLoader` to improve performance.\n"
     ]
    },
    {
     "name": "stdout",
     "output_type": "stream",
     "text": [
      "                                                                           "
     ]
    },
    {
     "name": "stderr",
     "output_type": "stream",
     "text": [
      "/Users/terekhova/fsl/lib/python3.12/site-packages/lightning/pytorch/trainer/connectors/data_connector.py:425: The 'train_dataloader' does not have many workers which may be a bottleneck. Consider increasing the value of the `num_workers` argument` to `num_workers=7` in the `DataLoader` to improve performance.\n"
     ]
    },
    {
     "name": "stdout",
     "output_type": "stream",
     "text": [
      "Epoch 49: 100%|██████████| 4/4 [00:00<00:00, 21.85it/s, v_num=36, train_loss_step=9.82e+7, val_loss_step=1.26e+8, val_loss_epoch=1.26e+8, train_loss_epoch=1.26e+8]"
     ]
    },
    {
     "name": "stderr",
     "output_type": "stream",
     "text": [
      "Restoring states from the checkpoint path at /Users/terekhova/Desktop/github /lightning_logs/version_36/checkpoints/epoch=29-step=120.ckpt\n"
     ]
    },
    {
     "name": "stdout",
     "output_type": "stream",
     "text": [
      "\n",
      "<lightning.pytorch.callbacks.model_checkpoint.ModelCheckpoint object at 0x3050fb4d0>\n",
      "Training complete\n"
     ]
    },
    {
     "name": "stderr",
     "output_type": "stream",
     "text": [
      "Loaded model weights from the checkpoint at /Users/terekhova/Desktop/github /lightning_logs/version_36/checkpoints/epoch=29-step=120.ckpt\n",
      "/Users/terekhova/fsl/lib/python3.12/site-packages/lightning/pytorch/trainer/connectors/data_connector.py:425: The 'test_dataloader' does not have many workers which may be a bottleneck. Consider increasing the value of the `num_workers` argument` to `num_workers=7` in the `DataLoader` to improve performance.\n"
     ]
    },
    {
     "name": "stdout",
     "output_type": "stream",
     "text": [
      "Testing DataLoader 0: 100%|██████████| 4/4 [00:00<00:00, 35.29it/s]\n"
     ]
    },
    {
     "data": {
      "text/html": [
       "<pre style=\"white-space:pre;overflow-x:auto;line-height:normal;font-family:Menlo,'DejaVu Sans Mono',consolas,'Courier New',monospace\">┏━━━━━━━━━━━━━━━━━━━━━━━━━━━┳━━━━━━━━━━━━━━━━━━━━━━━━━━━┓\n",
       "┃<span style=\"font-weight: bold\">        Test metric        </span>┃<span style=\"font-weight: bold\">       DataLoader 0        </span>┃\n",
       "┡━━━━━━━━━━━━━━━━━━━━━━━━━━━╇━━━━━━━━━━━━━━━━━━━━━━━━━━━┩\n",
       "│<span style=\"color: #008080; text-decoration-color: #008080\">      test_loss_epoch      </span>│<span style=\"color: #800080; text-decoration-color: #800080\">        125634912.0        </span>│\n",
       "└───────────────────────────┴───────────────────────────┘\n",
       "</pre>\n"
      ],
      "text/plain": [
       "┏━━━━━━━━━━━━━━━━━━━━━━━━━━━┳━━━━━━━━━━━━━━━━━━━━━━━━━━━┓\n",
       "┃\u001b[1m \u001b[0m\u001b[1m       Test metric       \u001b[0m\u001b[1m \u001b[0m┃\u001b[1m \u001b[0m\u001b[1m      DataLoader 0       \u001b[0m\u001b[1m \u001b[0m┃\n",
       "┡━━━━━━━━━━━━━━━━━━━━━━━━━━━╇━━━━━━━━━━━━━━━━━━━━━━━━━━━┩\n",
       "│\u001b[36m \u001b[0m\u001b[36m     test_loss_epoch     \u001b[0m\u001b[36m \u001b[0m│\u001b[35m \u001b[0m\u001b[35m       125634912.0       \u001b[0m\u001b[35m \u001b[0m│\n",
       "└───────────────────────────┴───────────────────────────┘\n"
      ]
     },
     "metadata": {},
     "output_type": "display_data"
    }
   ],
   "source": [
    "run_full_pipeline(trainer_config=trainer_config, brain_wave_linker_net=brain_wave_linker_net)"
   ]
  },
  {
   "cell_type": "code",
   "execution_count": null,
   "metadata": {},
   "outputs": [],
   "source": [
    "# use MAPE \n",
    "# try plotting the graphs - try imagescale, try plooting seevral time series on one time axis \n",
    "    # try spider \n",
    "# remove the global trend (?)\n",
    "# how to preprocess the data with the ортогональая проекци: via numpy reshape сжать и разжать в иначальное ищмерение \n",
    "\n",
    "# посмотреть на magnitude  \n",
    "\n",
    "# fmri prep показать что у одного и того же человека меняется активация roi при стимуле; потом проверить виде ли тот же резлуьтат когда в 2 рааза меньше данных \n",
    "# possibly imterpolate дфрки в данных или просто убрать пробелы в данных и в коонтрасте "
   ]
  },
  {
   "cell_type": "code",
   "execution_count": null,
   "metadata": {},
   "outputs": [
    {
     "data": {
      "text/plain": [
       "[' Left Cerebral White Matter',\n",
       " ' Left Cerebral Cortex',\n",
       " ' Left Lateral Ventricle',\n",
       " ' Left Thalamus',\n",
       " ' Left Caudate',\n",
       " ' Left Putamen',\n",
       " ' Left Pallidum',\n",
       " ' Left Brain-Stem',\n",
       " ' Right Brain-Stem',\n",
       " ' Left Hippocampus',\n",
       " ' Left Amygdala',\n",
       " ' Left Accumbens',\n",
       " ' Right Cerebral White Matter',\n",
       " ' Right Cerebral Cortex',\n",
       " ' Right Lateral Ventricle',\n",
       " ' Right Thalamus',\n",
       " ' Right Caudate',\n",
       " ' Right Putamen',\n",
       " ' Right Pallidum',\n",
       " ' Right Hippocampus',\n",
       " ' Right Amygdala',\n",
       " ' Right Accumbens']"
      ]
     },
     "execution_count": 166,
     "metadata": {},
     "output_type": "execute_result"
    }
   ],
   "source": [
    "rois "
   ]
  },
  {
   "cell_type": "code",
   "execution_count": null,
   "metadata": {},
   "outputs": [],
   "source": []
  },
  {
   "cell_type": "code",
   "execution_count": null,
   "metadata": {},
   "outputs": [],
   "source": []
  },
  {
   "cell_type": "code",
   "execution_count": null,
   "metadata": {},
   "outputs": [],
   "source": []
  },
  {
   "cell_type": "code",
   "execution_count": null,
   "metadata": {},
   "outputs": [],
   "source": [
    "\n"
   ]
  },
  {
   "cell_type": "code",
   "execution_count": null,
   "metadata": {},
   "outputs": [],
   "source": []
  },
  {
   "cell_type": "code",
   "execution_count": null,
   "metadata": {},
   "outputs": [],
   "source": []
  }
 ],
 "metadata": {
  "kernelspec": {
   "display_name": "base",
   "language": "python",
   "name": "python3"
  },
  "language_info": {
   "codemirror_mode": {
    "name": "ipython",
    "version": 3
   },
   "file_extension": ".py",
   "mimetype": "text/x-python",
   "name": "python",
   "nbconvert_exporter": "python",
   "pygments_lexer": "ipython3",
   "version": "3.12.3"
  }
 },
 "nbformat": 4,
 "nbformat_minor": 2
}
